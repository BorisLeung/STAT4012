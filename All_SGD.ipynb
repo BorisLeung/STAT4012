{
 "cells": [
  {
   "cell_type": "code",
   "execution_count": 2,
   "metadata": {},
   "outputs": [],
   "source": [
    "from dataset import get_datasets\n",
    "\n",
    "train_dataset, test_dataset = get_datasets()"
   ]
  },
  {
   "cell_type": "code",
   "execution_count": 3,
   "metadata": {},
   "outputs": [
    {
     "name": "stderr",
     "output_type": "stream",
     "text": [
      "c:\\Users\\USER\\anaconda3\\envs\\playtorch\\Lib\\site-packages\\torchvision\\models\\_utils.py:208: UserWarning: The parameter 'pretrained' is deprecated since 0.13 and may be removed in the future, please use 'weights' instead.\n",
      "  warnings.warn(\n",
      "c:\\Users\\USER\\anaconda3\\envs\\playtorch\\Lib\\site-packages\\torchvision\\models\\_utils.py:223: UserWarning: Arguments other than a weight enum or `None` for 'weights' are deprecated since 0.13 and may be removed in the future. The current behavior is equivalent to passing `weights=AlexNet_Weights.IMAGENET1K_V1`. You can also use `weights=AlexNet_Weights.DEFAULT` to get the most up-to-date weights.\n",
      "  warnings.warn(msg)\n",
      "c:\\Users\\USER\\anaconda3\\envs\\playtorch\\Lib\\site-packages\\torchvision\\models\\_utils.py:223: UserWarning: Arguments other than a weight enum or `None` for 'weights' are deprecated since 0.13 and may be removed in the future. The current behavior is equivalent to passing `weights=ResNet18_Weights.IMAGENET1K_V1`. You can also use `weights=ResNet18_Weights.DEFAULT` to get the most up-to-date weights.\n",
      "  warnings.warn(msg)\n",
      "c:\\Users\\USER\\anaconda3\\envs\\playtorch\\Lib\\site-packages\\torchvision\\models\\_utils.py:223: UserWarning: Arguments other than a weight enum or `None` for 'weights' are deprecated since 0.13 and may be removed in the future. The current behavior is equivalent to passing `weights=ResNet50_Weights.IMAGENET1K_V1`. You can also use `weights=ResNet50_Weights.DEFAULT` to get the most up-to-date weights.\n",
      "  warnings.warn(msg)\n"
     ]
    }
   ],
   "source": [
    "import pandas as pd\n",
    "import torch.nn as nn\n",
    "from torchvision import models\n",
    "from dataset import PosterDataset\n",
    "\n",
    "df = pd.read_csv(PosterDataset.csv_file)\n",
    "alexnet = models.alexnet(pretrained=True)\n",
    "resnet18 = models.resnet18(pretrained=True)\n",
    "resnet50 = models.resnet50(pretrained=True)\n",
    "\n",
    "last_layer_classifier_alexnet = nn.Sequential(\n",
    "    nn.Linear(9216, len(df.columns) - 2), \n",
    "    nn.Sigmoid()\n",
    ")\n",
    "last_layer_classifier_resnet18 = nn.Sequential(\n",
    "    nn.Linear(resnet18.fc.in_features, len(df.columns) - 2), \n",
    "    nn.Sigmoid()\n",
    ")\n",
    "last_layer_classifier_resnet50 = nn.Sequential(\n",
    "    nn.Linear(resnet50.fc.in_features, len(df.columns) - 2), \n",
    "    nn.Sigmoid()\n",
    ")\n"
   ]
  },
  {
   "cell_type": "code",
   "execution_count": 7,
   "metadata": {},
   "outputs": [
    {
     "name": "stderr",
     "output_type": "stream",
     "text": [
      "\u001b[34m\u001b[1mwandb\u001b[0m: \u001b[33mWARNING\u001b[0m Calling wandb.login() after wandb.init() has no effect.\n"
     ]
    },
    {
     "data": {
      "text/plain": [
       "True"
      ]
     },
     "execution_count": 7,
     "metadata": {},
     "output_type": "execute_result"
    }
   ],
   "source": [
    "import wandb\n",
    "\n",
    "PROJECT_NAME = \"STAT4012Project_SGD\"\n",
    "wandb.login()"
   ]
  },
  {
   "cell_type": "code",
   "execution_count": 5,
   "metadata": {},
   "outputs": [
    {
     "data": {
      "text/html": [
       "wandb version 0.16.6 is available!  To upgrade, please run:\n",
       " $ pip install wandb --upgrade"
      ],
      "text/plain": [
       "<IPython.core.display.HTML object>"
      ]
     },
     "metadata": {},
     "output_type": "display_data"
    },
    {
     "data": {
      "text/html": [
       "Tracking run with wandb version 0.16.5"
      ],
      "text/plain": [
       "<IPython.core.display.HTML object>"
      ]
     },
     "metadata": {},
     "output_type": "display_data"
    },
    {
     "data": {
      "text/html": [
       "Run data is saved locally in <code>.\\wandb\\run-20240416_072204-nyg6vryz</code>"
      ],
      "text/plain": [
       "<IPython.core.display.HTML object>"
      ]
     },
     "metadata": {},
     "output_type": "display_data"
    },
    {
     "data": {
      "text/html": [
       "Syncing run <strong><a href='https://wandb.ai/cuhkstat4012proj/STAT4012Project_SGD/runs/nyg6vryz/workspace' target=\"_blank\">alexnetSGD_1713223324</a></strong> to <a href='https://wandb.ai/cuhkstat4012proj/STAT4012Project_SGD' target=\"_blank\">Weights & Biases</a> (<a href='https://wandb.me/run' target=\"_blank\">docs</a>)<br/>"
      ],
      "text/plain": [
       "<IPython.core.display.HTML object>"
      ]
     },
     "metadata": {},
     "output_type": "display_data"
    },
    {
     "data": {
      "text/html": [
       " View project at <a href='https://wandb.ai/cuhkstat4012proj/STAT4012Project_SGD' target=\"_blank\">https://wandb.ai/cuhkstat4012proj/STAT4012Project_SGD</a>"
      ],
      "text/plain": [
       "<IPython.core.display.HTML object>"
      ]
     },
     "metadata": {},
     "output_type": "display_data"
    },
    {
     "data": {
      "text/html": [
       " View run at <a href='https://wandb.ai/cuhkstat4012proj/STAT4012Project_SGD/runs/nyg6vryz/workspace' target=\"_blank\">https://wandb.ai/cuhkstat4012proj/STAT4012Project_SGD/runs/nyg6vryz/workspace</a>"
      ],
      "text/plain": [
       "<IPython.core.display.HTML object>"
      ]
     },
     "metadata": {},
     "output_type": "display_data"
    },
    {
     "name": "stderr",
     "output_type": "stream",
     "text": [
      "GPU available: True (cuda), used: True\n",
      "TPU available: False, using: 0 TPU cores\n",
      "IPU available: False, using: 0 IPUs\n",
      "HPU available: False, using: 0 HPUs\n",
      "LOCAL_RANK: 0 - CUDA_VISIBLE_DEVICES: [0]\n",
      "\n",
      "  | Name             | Type            | Params\n",
      "-----------------------------------------------------\n",
      "0 | features         | Sequential      | 2.5 M \n",
      "1 | class_classifier | Sequential      | 175 K \n",
      "2 | loss_fn          | BCELoss         | 0     \n",
      "3 | metrics          | MultilabelAUROC | 0     \n",
      "-----------------------------------------------------\n",
      "2.6 M     Trainable params\n",
      "0         Non-trainable params\n",
      "2.6 M     Total params\n",
      "10.579    Total estimated model params size (MB)\n"
     ]
    },
    {
     "name": "stdout",
     "output_type": "stream",
     "text": [
      "Sanity Checking DataLoader 0: 100%|██████████| 2/2 [00:00<00:00,  2.59it/s]"
     ]
    },
    {
     "name": "stderr",
     "output_type": "stream",
     "text": [
      "c:\\Users\\USER\\anaconda3\\envs\\playtorch\\Lib\\site-packages\\torchmetrics\\utilities\\prints.py:43: UserWarning: No positive samples in targets, true positive value should be meaningless. Returning zero tensor in true positive score\n",
      "  warnings.warn(*args, **kwargs)  # noqa: B028\n"
     ]
    },
    {
     "name": "stdout",
     "output_type": "stream",
     "text": [
      "Epoch 4: 100%|██████████| 13721/13721 [19:02<00:00, 12.01it/s, v_num=vryz, train_auroc=0.541, train_loss_step=0.253, val_auroc_step=0.275, val_loss_step=0.216, val_auroc_epoch=0.534, val_loss_epoch=0.230, train_loss_epoch=0.231]"
     ]
    },
    {
     "name": "stderr",
     "output_type": "stream",
     "text": [
      "`Trainer.fit` stopped: `max_epochs=5` reached.\n"
     ]
    },
    {
     "name": "stdout",
     "output_type": "stream",
     "text": [
      "Epoch 4: 100%|██████████| 13721/13721 [19:03<00:00, 12.00it/s, v_num=vryz, train_auroc=0.541, train_loss_step=0.253, val_auroc_step=0.275, val_loss_step=0.216, val_auroc_epoch=0.534, val_loss_epoch=0.230, train_loss_epoch=0.231]\n"
     ]
    }
   ],
   "source": [
    "import lightning as L\n",
    "from lightning.pytorch.loggers import WandbLogger\n",
    "from torch.utils.data import DataLoader\n",
    "from torch import optim\n",
    "from model import pretrainedModel\n",
    "import time\n",
    "\n",
    "config = {\n",
    "    \"batch_size\": 32,\n",
    "    \"loss_fn\": nn.BCELoss,\n",
    "    \"lr\": 0.0001,\n",
    "    \"optimizer\": optim.SGD,\n",
    "    \"epochs\": 5,\n",
    "}\n",
    "\n",
    "model_alexnet_SGD = pretrainedModel(\n",
    "    alexnet,\n",
    "    last_layer_classifier_alexnet,\n",
    "    len(df.columns) - 2,\n",
    "    config[\"loss_fn\"],\n",
    "    config[\"optimizer\"],\n",
    "    lr=config[\"lr\"],\n",
    ")\n",
    "\n",
    "train_loader = DataLoader(train_dataset, batch_size=config[\"batch_size\"], shuffle=True, num_workers=6, pin_memory=True)\n",
    "validation_loader = DataLoader(test_dataset, batch_size=config[\"batch_size\"], shuffle=False, num_workers=6, pin_memory=True)\n",
    "\n",
    "run_name = \"alexnetSGD_\" + str(int(time.time()))\n",
    "logger = WandbLogger(name=run_name, project=PROJECT_NAME, log_model=\"all\")\n",
    "trainer = L.Trainer(max_epochs=config[\"epochs\"], logger=logger, accelerator=\"gpu\", devices=1, default_root_dir=\"AlexNet\")\n",
    "\n",
    "trainer.fit(model_alexnet_SGD, train_loader, validation_loader)\n"
   ]
  },
  {
   "cell_type": "code",
   "execution_count": null,
   "metadata": {},
   "outputs": [],
   "source": [
    "import lightning as L\n",
    "from lightning.pytorch.loggers import WandbLogger\n",
    "from torch.utils.data import DataLoader\n",
    "from torch import optim\n",
    "from model import pretrainedModel\n",
    "import time\n",
    "\n",
    "config = {\n",
    "    \"batch_size\": 32,\n",
    "    \"loss_fn\": nn.BCELoss,\n",
    "    \"lr\": 0.0001,\n",
    "    \"optimizer\": optim.SGD,\n",
    "    \"epochs\": 5,\n",
    "}\n",
    "\n",
    "model_resnet18_SGD = pretrainedModel(\n",
    "    resnet18,\n",
    "    last_layer_classifier_resnet18,\n",
    "    len(df.columns) - 2,\n",
    "    config[\"loss_fn\"],\n",
    "    config[\"optimizer\"],\n",
    "    lr=config[\"lr\"],\n",
    ")\n",
    "train_loader = DataLoader(train_dataset, batch_size=config[\"batch_size\"], shuffle=True,num_workers=6, pin_memory=True)\n",
    "validation_loader = DataLoader(test_dataset, batch_size=config[\"batch_size\"], shuffle=False,num_workers=6, pin_memory=True)\n",
    "\n",
    "run_name = \"resnet18_\" + str(int(time.time()))\n",
    "logger = WandbLogger(name=run_name, project=PROJECT_NAME, log_model=\"all\")\n",
    "trainer = L.Trainer(max_epochs=config[\"epochs\"], logger=logger, accelerator=\"gpu\", devices=1)\n",
    "\n",
    "print(run_name)\n",
    "trainer.fit(model_resnet18_SGD, train_loader, validation_loader, ckpt_path = \"STAT4012Project_SGD/nyg6vryz/checkpoints/epoch=1-step=27442.ckpt\")"
   ]
  },
  {
   "cell_type": "code",
   "execution_count": null,
   "metadata": {},
   "outputs": [],
   "source": [
    "import lightning as L\n",
    "from lightning.pytorch.loggers import WandbLogger\n",
    "from torch.utils.data import DataLoader\n",
    "from torch import optim\n",
    "import time\n",
    "\n",
    "\n",
    "from model import pretrainedModel\n",
    "\n",
    "\n",
    "config = {\"batch_size\": 32, \n",
    "          \"loss_fn\": nn.BCELoss, \n",
    "          \"optimizer\": optim.SGD, \n",
    "          \"lr\": 0.0001,\n",
    "          \"epochs\": 5}\n",
    "\n",
    "model_resnet50_SGD = pretrainedModel(\n",
    "    resnet50,\n",
    "    last_layer_classifier_resnet50,\n",
    "    len(df.columns) - 2,\n",
    "    config[\"loss_fn\"],\n",
    "    config[\"optimizer\"],\n",
    "    lr=config[\"lr\"],\n",
    ")\n",
    "\n",
    "train_loader = DataLoader(train_dataset, batch_size=config[\"batch_size\"], shuffle=True,num_workers=6, pin_memory=True)\n",
    "validation_loader = DataLoader(test_dataset, batch_size=config[\"batch_size\"], shuffle=False,num_workers=6, pin_memory=True)\n",
    "\n",
    "run_name = \"resnet50_\" + str(int(time.time()))\n",
    "logger = WandbLogger(name=run_name, project=PROJECT_NAME, log_model=\"all\")\n",
    "trainer = L.Trainer(max_epochs=config[\"epochs\"], logger=logger, accelerator=\"gpu\", devices=1, default_root_dir=\"ResNet50\")\n",
    "\n",
    "print(run_name)\n",
    "trainer.fit(model_resnet50_SGD, train_loader, validation_loader)"
   ]
  }
 ],
 "metadata": {
  "kernelspec": {
   "display_name": "playtorch",
   "language": "python",
   "name": "python3"
  },
  "language_info": {
   "codemirror_mode": {
    "name": "ipython",
    "version": 3
   },
   "file_extension": ".py",
   "mimetype": "text/x-python",
   "name": "python",
   "nbconvert_exporter": "python",
   "pygments_lexer": "ipython3",
   "version": "3.11.8"
  }
 },
 "nbformat": 4,
 "nbformat_minor": 2
}
