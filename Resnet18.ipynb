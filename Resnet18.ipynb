{
 "cells": [
  {
   "cell_type": "code",
   "execution_count": 2,
   "metadata": {},
   "outputs": [],
   "source": [
    "from dataset import get_datasets\n",
    "\n",
    "train_dataset, test_dataset = get_datasets()"
   ]
  },
  {
   "cell_type": "code",
   "execution_count": 3,
   "metadata": {},
   "outputs": [
    {
     "name": "stderr",
     "output_type": "stream",
     "text": [
      "/Users/yslomichael/opt/anaconda3/envs/stat4012proj/lib/python3.11/site-packages/torchvision/models/_utils.py:208: UserWarning: The parameter 'pretrained' is deprecated since 0.13 and may be removed in the future, please use 'weights' instead.\n",
      "  warnings.warn(\n",
      "/Users/yslomichael/opt/anaconda3/envs/stat4012proj/lib/python3.11/site-packages/torchvision/models/_utils.py:223: UserWarning: Arguments other than a weight enum or `None` for 'weights' are deprecated since 0.13 and may be removed in the future. The current behavior is equivalent to passing `weights=ResNet18_Weights.IMAGENET1K_V1`. You can also use `weights=ResNet18_Weights.DEFAULT` to get the most up-to-date weights.\n",
      "  warnings.warn(msg)\n"
     ]
    }
   ],
   "source": [
    "import pandas as pd\n",
    "import torch.nn as nn\n",
    "from torchvision import models\n",
    "from dataset import PosterDataset\n",
    "\n",
    "df = pd.read_csv(PosterDataset.csv_file)\n",
    "resnet18 = models.resnet18(pretrained=True)\n",
    "last_layer_classifier = nn.Sequential(\n",
    "    nn.Linear(resnet18.fc.in_features, len(df.columns) - 2), \n",
    "    nn.Sigmoid()\n",
    ")"
   ]
  },
  {
   "cell_type": "code",
   "execution_count": 7,
   "metadata": {},
   "outputs": [
    {
     "name": "stderr",
     "output_type": "stream",
     "text": [
      "\u001b[34m\u001b[1mwandb\u001b[0m: \u001b[33mWARNING\u001b[0m Calling wandb.login() after wandb.init() has no effect.\n"
     ]
    },
    {
     "data": {
      "text/plain": [
       "True"
      ]
     },
     "execution_count": 7,
     "metadata": {},
     "output_type": "execute_result"
    }
   ],
   "source": [
    "import wandb\n",
    "\n",
    "PROJECT_NAME = \"STAT4012Project\"\n",
    "wandb.login()"
   ]
  },
  {
   "cell_type": "code",
   "execution_count": null,
   "metadata": {},
   "outputs": [],
   "source": [
    "import lightning as L\n",
    "from lightning.pytorch.loggers import WandbLogger\n",
    "from torch.utils.data import DataLoader\n",
    "from torch import optim\n",
    "from model import pretrainedModel\n",
    "\n",
    "config = {\n",
    "    \"batch_size\": 32,\n",
    "    \"loss_fn\": nn.BCELoss,\n",
    "    \"lr\": 5e-5,\n",
    "    \"optimizer\": optim.Adam,\n",
    "    \"epochs\": 5,\n",
    "}\n",
    "\n",
    "model_resnet18 = pretrainedModel(\n",
    "    resnet18,\n",
    "    last_layer_classifier,\n",
    "    len(df.columns) - 2,\n",
    "    config[\"loss_fn\"],\n",
    "    config[\"optimizer\"],\n",
    "    lr=config[\"lr\"],\n",
    ")\n",
    "train_loader = DataLoader(train_dataset, batch_size=config[\"batch_size\"], shuffle=True,num_workers=6, pin_memory=True)\n",
    "validation_loader = DataLoader(test_dataset, batch_size=config[\"batch_size\"], shuffle=False,num_workers=6, pin_memory=True)\n",
    "\n",
    "run_name = \"resnet18_\" + str(int(time.time()))\n",
    "logger = WandbLogger(name=run_name, project=PROJECT_NAME, log_model=\"all\")\n",
    "trainer = L.Trainer(max_epochs=config[\"epochs\"], logger=logger, accelerator=\"gpu\", devices=1, default_root_dir=\"C:\\Users\\USER\\Desktop\\STAT4012\\ResNet18\")\n",
    "\n",
    "trainer.fit(model_resnet18, train_loader, validation_loader)"
   ]
  }
 ],
 "metadata": {
  "kernelspec": {
   "display_name": "stat4012proj",
   "language": "python",
   "name": "python3"
  },
  "language_info": {
   "codemirror_mode": {
    "name": "ipython",
    "version": 3
   },
   "file_extension": ".py",
   "mimetype": "text/x-python",
   "name": "python",
   "nbconvert_exporter": "python",
   "pygments_lexer": "ipython3",
   "version": "3.11.7"
  }
 },
 "nbformat": 4,
 "nbformat_minor": 2
}
