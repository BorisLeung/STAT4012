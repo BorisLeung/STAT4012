{
 "cells": [
  {
   "cell_type": "code",
   "execution_count": 2,
   "metadata": {},
   "outputs": [
    {
     "data": {
      "text/plain": [
       "array([[5.9096091e-03, 1.8780015e-02, 1.3236778e-02, ..., 4.5237308e-03,\n",
       "        1.4008738e-03, 2.3258946e-04],\n",
       "       [2.4652281e-03, 1.8975829e-03, 1.5274537e-03, ..., 1.7141350e-02,\n",
       "        2.9268896e-04, 8.4046675e-05],\n",
       "       [2.8993608e-02, 7.7607580e-02, 4.1559402e-02, ..., 5.5505987e-03,\n",
       "        5.9728534e-04, 9.5455231e-05],\n",
       "       ...,\n",
       "       [2.5258152e-02, 1.6007029e-02, 2.2484516e-03, ..., 2.0169454e-02,\n",
       "        4.5092553e-03, 2.7794398e-05],\n",
       "       [7.1792738e-03, 1.3719053e-02, 3.4775727e-03, ..., 1.8464502e-02,\n",
       "        1.1106500e-02, 5.5939052e-03],\n",
       "       [4.4155668e-04, 6.5601862e-04, 1.6811199e-04, ..., 7.2238903e-04,\n",
       "        6.0856150e-04, 6.6429155e-04]], dtype=float32)"
      ]
     },
     "execution_count": 2,
     "metadata": {},
     "output_type": "execute_result"
    }
   ],
   "source": [
    "# load results\n",
    "import numpy as np\n",
    "\n",
    "resnet18_predictions = np.load(\"resnet18_predictions.npz\")[\"arr_0\"]\n",
    "resnet18_predictions"
   ]
  },
  {
   "cell_type": "code",
   "execution_count": 24,
   "metadata": {},
   "outputs": [],
   "source": [
    "import pandas as pd\n",
    "\n",
    "\n",
    "from dataset import PosterDataset\n",
    "\n",
    "df = pd.read_csv(PosterDataset.csv_file)\n",
    "true_values = df.iloc[:, -20:-1].values\n",
    "genres = df.columns[-20:-1]\n",
    "genres = list(map(lambda x: x[1:], genres))\n",
    "single_genres = df.genre_count == 1"
   ]
  },
  {
   "cell_type": "code",
   "execution_count": 33,
   "metadata": {},
   "outputs": [
    {
     "data": {
      "text/plain": [
       "(0.7432960005925505, 0.7432960005925505)"
      ]
     },
     "execution_count": 33,
     "metadata": {},
     "output_type": "execute_result"
    }
   ],
   "source": [
    "from sklearn.metrics import accuracy_score, f1_score\n",
    "\n",
    "# calculate accuracy\n",
    "single_prediction = (\n",
    "    resnet18_predictions[single_genres]\n",
    "    == resnet18_predictions.max(axis=1)[single_genres][:, None]\n",
    ")\n",
    "accuracy_score(single_prediction, true_values[single_genres]), f1_score(\n",
    "    single_prediction, true_values[single_genres], average=\"samples\"\n",
    ")"
   ]
  },
  {
   "cell_type": "code",
   "execution_count": 3,
   "metadata": {},
   "outputs": [
    {
     "data": {
      "text/plain": [
       "array([ 3,  6,  7, ...,  3,  6, 11])"
      ]
     },
     "execution_count": 3,
     "metadata": {},
     "output_type": "execute_result"
    }
   ],
   "source": [
    "resnet18_predictions.argmax(axis=1)"
   ]
  }
 ],
 "metadata": {
  "kernelspec": {
   "display_name": "stat4012proj",
   "language": "python",
   "name": "python3"
  },
  "language_info": {
   "codemirror_mode": {
    "name": "ipython",
    "version": 3
   },
   "file_extension": ".py",
   "mimetype": "text/x-python",
   "name": "python",
   "nbconvert_exporter": "python",
   "pygments_lexer": "ipython3",
   "version": "3.11.7"
  }
 },
 "nbformat": 4,
 "nbformat_minor": 2
}
