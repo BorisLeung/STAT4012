{
 "cells": [
  {
   "cell_type": "code",
   "execution_count": 2,
   "metadata": {},
   "outputs": [
    {
     "data": {
      "text/plain": [
       "array([[3.94779863e-03, 2.13177186e-02, 2.82587498e-01, ...,\n",
       "        2.13121027e-02, 5.10923739e-04, 7.79809547e-04],\n",
       "       [3.17397341e-02, 2.27939729e-02, 5.96201345e-02, ...,\n",
       "        2.25043856e-02, 8.88946839e-03, 9.63680912e-03],\n",
       "       [1.03488244e-01, 1.84415221e-01, 7.55974829e-01, ...,\n",
       "        6.58041053e-03, 3.66960512e-03, 1.04460865e-02],\n",
       "       ...,\n",
       "       [2.55904216e-02, 2.07660664e-02, 1.19247288e-01, ...,\n",
       "        9.75004956e-03, 8.14527366e-03, 3.96740716e-03],\n",
       "       [1.05909910e-02, 5.22454968e-03, 8.89304131e-02, ...,\n",
       "        1.62097216e-02, 8.68206099e-03, 3.23032681e-03],\n",
       "       [5.39686829e-02, 1.37956887e-02, 5.94881102e-02, ...,\n",
       "        1.52153283e-01, 3.16583016e-03, 3.53303924e-03]], dtype=float32)"
      ]
     },
     "execution_count": 2,
     "metadata": {},
     "output_type": "execute_result"
    }
   ],
   "source": [
    "# load results\n",
    "import numpy as np\n",
    "\n",
    "alexnet_predictions = np.load(\"alexnet_predictions.npz\")[\"arr_0\"]\n",
    "alexnet_predictions"
   ]
  },
  {
   "cell_type": "code",
   "execution_count": 3,
   "metadata": {},
   "outputs": [],
   "source": [
    "import pandas as pd\n",
    "\n",
    "\n",
    "from dataset import PosterDataset\n",
    "\n",
    "df = pd.read_csv(PosterDataset.csv_file)\n",
    "true_values = df.iloc[:, -20:-1].values\n",
    "genres = df.columns[-20:-1]\n",
    "genres = list(map(lambda x: x[1:], genres))\n",
    "single_genres = df.genre_count == 1"
   ]
  },
  {
   "cell_type": "code",
   "execution_count": 4,
   "metadata": {},
   "outputs": [
    {
     "data": {
      "text/plain": [
       "(0.43490739854886845, 0.4349073985488685)"
      ]
     },
     "execution_count": 4,
     "metadata": {},
     "output_type": "execute_result"
    }
   ],
   "source": [
    "from sklearn.metrics import accuracy_score, f1_score\n",
    "\n",
    "# calculate accuracy\n",
    "single_prediction = (\n",
    "    alexnet_predictions[single_genres]\n",
    "    == alexnet_predictions.max(axis=1)[single_genres][:, None]\n",
    ")\n",
    "accuracy_score(single_prediction, true_values[single_genres]), f1_score(\n",
    "    single_prediction, true_values[single_genres], average=\"micro\"\n",
    ")"
   ]
  },
  {
   "cell_type": "markdown",
   "metadata": {},
   "source": [
    "### 3 Single Label\n"
   ]
  },
  {
   "cell_type": "code",
   "execution_count": 5,
   "metadata": {},
   "outputs": [
    {
     "data": {
      "text/plain": [
       "15976"
      ]
     },
     "execution_count": 5,
     "metadata": {},
     "output_type": "execute_result"
    }
   ],
   "source": [
    "three_columns = [\"Action\", \"Romance\", \"Thriller\"]\n",
    "three_genres = np.isin(genres, three_columns)\n",
    "three_genres_index_mask = (\n",
    "    true_values[:, three_genres].sum(axis=1) >= 1\n",
    ") & single_genres\n",
    "three_genres_index_mask.sum()"
   ]
  },
  {
   "cell_type": "code",
   "execution_count": 6,
   "metadata": {},
   "outputs": [
    {
     "data": {
      "text/plain": [
       "(0.6229969954932398, 0.6229969954932398)"
      ]
     },
     "execution_count": 6,
     "metadata": {},
     "output_type": "execute_result"
    }
   ],
   "source": [
    "from sklearn.metrics import accuracy_score, f1_score\n",
    "\n",
    "# calculate accuracy\n",
    "three_single_prediction = alexnet_predictions[three_genres_index_mask,][:, three_genres]\n",
    "three_single_prediction_classes = (\n",
    "    three_single_prediction == three_single_prediction.max(axis=1)[:, None]\n",
    ")\n",
    "\n",
    "accuracy_score(\n",
    "    three_single_prediction_classes,\n",
    "    true_values[three_genres_index_mask,][:, three_genres],\n",
    "), f1_score(\n",
    "    three_single_prediction_classes,\n",
    "    true_values[three_genres_index_mask,][:, three_genres],\n",
    "    average=\"samples\",\n",
    ")"
   ]
  },
  {
   "cell_type": "code",
   "execution_count": 7,
   "metadata": {},
   "outputs": [
    {
     "data": {
      "text/plain": [
       "array([0.25776164, 0.41612419, 0.32611417])"
      ]
     },
     "execution_count": 7,
     "metadata": {},
     "output_type": "execute_result"
    }
   ],
   "source": [
    "three_single_prediction_classes.sum(axis=0) / three_single_prediction.shape[0]"
   ]
  }
 ],
 "metadata": {
  "kernelspec": {
   "display_name": "stat4012proj",
   "language": "python",
   "name": "python3"
  },
  "language_info": {
   "codemirror_mode": {
    "name": "ipython",
    "version": 3
   },
   "file_extension": ".py",
   "mimetype": "text/x-python",
   "name": "python",
   "nbconvert_exporter": "python",
   "pygments_lexer": "ipython3",
   "version": "3.11.7"
  }
 },
 "nbformat": 4,
 "nbformat_minor": 2
}
