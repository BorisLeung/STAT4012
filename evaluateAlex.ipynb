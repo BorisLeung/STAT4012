{
 "cells": [
  {
   "cell_type": "code",
   "execution_count": 34,
   "metadata": {},
   "outputs": [
    {
     "data": {
      "text/plain": [
       "array([[3.94779863e-03, 2.13177186e-02, 2.82587498e-01, ...,\n",
       "        2.13121027e-02, 5.10923739e-04, 7.79809547e-04],\n",
       "       [3.17397341e-02, 2.27939729e-02, 5.96201345e-02, ...,\n",
       "        2.25043856e-02, 8.88946839e-03, 9.63680912e-03],\n",
       "       [1.03488244e-01, 1.84415221e-01, 7.55974829e-01, ...,\n",
       "        6.58041053e-03, 3.66960512e-03, 1.04460865e-02],\n",
       "       ...,\n",
       "       [2.55904216e-02, 2.07660664e-02, 1.19247288e-01, ...,\n",
       "        9.75004956e-03, 8.14527366e-03, 3.96740716e-03],\n",
       "       [1.05909910e-02, 5.22454968e-03, 8.89304131e-02, ...,\n",
       "        1.62097216e-02, 8.68206099e-03, 3.23032681e-03],\n",
       "       [5.39686829e-02, 1.37956887e-02, 5.94881102e-02, ...,\n",
       "        1.52153283e-01, 3.16583016e-03, 3.53303924e-03]], dtype=float32)"
      ]
     },
     "execution_count": 34,
     "metadata": {},
     "output_type": "execute_result"
    }
   ],
   "source": [
    "# load results\n",
    "import numpy as np\n",
    "\n",
    "alexnet_predictions = np.load(\"alexnet_predictions.npz\")[\"arr_0\"]\n",
    "alexnet_predictions"
   ]
  },
  {
   "cell_type": "code",
   "execution_count": 35,
   "metadata": {},
   "outputs": [],
   "source": [
    "import pandas as pd\n",
    "\n",
    "\n",
    "from dataset import PosterDataset\n",
    "\n",
    "df = pd.read_csv(PosterDataset.csv_file)\n",
    "true_values = df.iloc[:, -20:-1].values\n",
    "genres = df.columns[-20:-1]\n",
    "genres = list(map(lambda x: x[1:], genres))\n",
    "single_genres = df.genre_count == 1"
   ]
  },
  {
   "cell_type": "code",
   "execution_count": 36,
   "metadata": {},
   "outputs": [],
   "source": [
    "from sklearn.model_selection import train_test_split\n",
    "\n",
    "train_indices, test_indices = train_test_split(\n",
    "    np.arange(len(df)), test_size=0.2, random_state=42\n",
    ")"
   ]
  },
  {
   "cell_type": "code",
   "execution_count": 37,
   "metadata": {},
   "outputs": [],
   "source": [
    "test_mask = np.isin(np.arange(len(df)), test_indices)\n",
    "single_genres &= test_mask"
   ]
  },
  {
   "cell_type": "code",
   "execution_count": 45,
   "metadata": {},
   "outputs": [
    {
     "data": {
      "text/plain": [
       "array([[False, False, False, ..., False, False, False],\n",
       "       [False, False, False, ..., False, False, False],\n",
       "       [False, False, False, ..., False, False, False],\n",
       "       ...,\n",
       "       [False, False, False, ..., False, False, False],\n",
       "       [False, False, False, ..., False, False, False],\n",
       "       [False, False, False, ..., False, False, False]])"
      ]
     },
     "execution_count": 45,
     "metadata": {},
     "output_type": "execute_result"
    }
   ],
   "source": [
    "single_prediction"
   ]
  },
  {
   "cell_type": "code",
   "execution_count": 48,
   "metadata": {},
   "outputs": [
    {
     "name": "stderr",
     "output_type": "stream",
     "text": [
      "/Users/borisleung/anaconda3/envs/stat4012proj/lib/python3.11/site-packages/sklearn/metrics/_classification.py:1344: UndefinedMetricWarning: Precision is ill-defined and being set to 0.0 in labels with no predicted samples. Use `zero_division` parameter to control this behavior.\n",
      "  _warn_prf(average, modifier, msg_start, len(result))\n"
     ]
    },
    {
     "data": {
      "text/plain": [
       "(0.5450274581354139,\n",
       " 0.13382643304472486,\n",
       " 0.22662229906168885,\n",
       " 0.42892909805849105)"
      ]
     },
     "execution_count": 48,
     "metadata": {},
     "output_type": "execute_result"
    }
   ],
   "source": [
    "from sklearn.metrics import accuracy_score, f1_score, precision_score, roc_auc_score\n",
    "\n",
    "# calculate accuracy\n",
    "single_prediction = (\n",
    "    alexnet_predictions[single_genres]\n",
    "    == alexnet_predictions.max(axis=1)[single_genres][:, None]\n",
    ")\n",
    "\n",
    "\n",
    "roc_auc_score(true_values[single_genres], single_prediction, average=\"macro\"), f1_score(\n",
    "    true_values[single_genres], single_prediction, average=\"macro\"\n",
    "), precision_score(\n",
    "    true_values[single_genres], single_prediction, average=\"macro\"\n",
    "), accuracy_score(\n",
    "    true_values[single_genres], single_prediction\n",
    "),"
   ]
  },
  {
   "cell_type": "markdown",
   "metadata": {},
   "source": [
    "### 3 Single Label\n"
   ]
  },
  {
   "cell_type": "code",
   "execution_count": 39,
   "metadata": {},
   "outputs": [
    {
     "data": {
      "text/plain": [
       "3275"
      ]
     },
     "execution_count": 39,
     "metadata": {},
     "output_type": "execute_result"
    }
   ],
   "source": [
    "three_columns = [\"Action\", \"Romance\", \"Thriller\"]\n",
    "three_genres = np.isin(genres, three_columns)\n",
    "three_genres_index_mask = (\n",
    "    true_values[:, three_genres].sum(axis=1) >= 1\n",
    ") & single_genres\n",
    "three_genres_index_mask.sum()"
   ]
  },
  {
   "cell_type": "code",
   "execution_count": 44,
   "metadata": {},
   "outputs": [
    {
     "data": {
      "text/plain": [
       "(0.715957695221714, 0.6153952135839104, 0.6279016787731134, 0.6177099236641221)"
      ]
     },
     "execution_count": 44,
     "metadata": {},
     "output_type": "execute_result"
    }
   ],
   "source": [
    "from sklearn.metrics import accuracy_score, f1_score, precision_score, roc_auc_score\n",
    "\n",
    "# calculate accuracy\n",
    "three_single_prediction = alexnet_predictions[three_genres_index_mask,][:, three_genres]\n",
    "three_single_prediction_classes = (\n",
    "    three_single_prediction == three_single_prediction.max(axis=1)[:, None]\n",
    ")\n",
    "\n",
    "roc_auc_score(\n",
    "    true_values[three_genres_index_mask,][:, three_genres],\n",
    "    three_single_prediction_classes,\n",
    "    average=\"macro\",\n",
    "), f1_score(\n",
    "    true_values[three_genres_index_mask,][:, three_genres],\n",
    "    three_single_prediction_classes,\n",
    "    average=\"macro\",\n",
    "), precision_score(\n",
    "    true_values[three_genres_index_mask,][:, three_genres],\n",
    "    three_single_prediction_classes,\n",
    "    average=\"macro\",\n",
    "), accuracy_score(\n",
    "    true_values[three_genres_index_mask,][:, three_genres],\n",
    "    three_single_prediction_classes,\n",
    ")"
   ]
  },
  {
   "cell_type": "code",
   "execution_count": 41,
   "metadata": {},
   "outputs": [
    {
     "data": {
      "text/plain": [
       "array([0.25160305, 0.42259542, 0.32580153])"
      ]
     },
     "execution_count": 41,
     "metadata": {},
     "output_type": "execute_result"
    }
   ],
   "source": [
    "three_single_prediction_classes.sum(axis=0) / three_single_prediction.shape[0]"
   ]
  }
 ],
 "metadata": {
  "kernelspec": {
   "display_name": "stat4012proj",
   "language": "python",
   "name": "python3"
  },
  "language_info": {
   "codemirror_mode": {
    "name": "ipython",
    "version": 3
   },
   "file_extension": ".py",
   "mimetype": "text/x-python",
   "name": "python",
   "nbconvert_exporter": "python",
   "pygments_lexer": "ipython3",
   "version": "3.11.7"
  }
 },
 "nbformat": 4,
 "nbformat_minor": 2
}
