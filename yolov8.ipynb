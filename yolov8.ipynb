{
 "cells": [
  {
   "cell_type": "code",
   "execution_count": 1,
   "metadata": {},
   "outputs": [
    {
     "data": {
      "text/html": [
       "<div>\n",
       "<style scoped>\n",
       "    .dataframe tbody tr th:only-of-type {\n",
       "        vertical-align: middle;\n",
       "    }\n",
       "\n",
       "    .dataframe tbody tr th {\n",
       "        vertical-align: top;\n",
       "    }\n",
       "\n",
       "    .dataframe thead th {\n",
       "        text-align: right;\n",
       "    }\n",
       "</style>\n",
       "<table border=\"1\" class=\"dataframe\">\n",
       "  <thead>\n",
       "    <tr style=\"text-align: right;\">\n",
       "      <th></th>\n",
       "      <th>movie_id</th>\n",
       "      <th>_Action</th>\n",
       "      <th>_Adventure</th>\n",
       "      <th>_Animation</th>\n",
       "      <th>_Comedy</th>\n",
       "      <th>_Crime</th>\n",
       "      <th>_Documentary</th>\n",
       "      <th>_Drama</th>\n",
       "      <th>_Family</th>\n",
       "      <th>_Fantasy</th>\n",
       "      <th>...</th>\n",
       "      <th>_Horror</th>\n",
       "      <th>_Music</th>\n",
       "      <th>_Mystery</th>\n",
       "      <th>_Romance</th>\n",
       "      <th>_Science Fiction</th>\n",
       "      <th>_TV Movie</th>\n",
       "      <th>_Thriller</th>\n",
       "      <th>_War</th>\n",
       "      <th>_Western</th>\n",
       "      <th>genre_count</th>\n",
       "    </tr>\n",
       "  </thead>\n",
       "  <tbody>\n",
       "    <tr>\n",
       "      <th>0</th>\n",
       "      <td>1000001</td>\n",
       "      <td>False</td>\n",
       "      <td>True</td>\n",
       "      <td>False</td>\n",
       "      <td>True</td>\n",
       "      <td>False</td>\n",
       "      <td>False</td>\n",
       "      <td>False</td>\n",
       "      <td>False</td>\n",
       "      <td>True</td>\n",
       "      <td>...</td>\n",
       "      <td>False</td>\n",
       "      <td>False</td>\n",
       "      <td>False</td>\n",
       "      <td>False</td>\n",
       "      <td>False</td>\n",
       "      <td>False</td>\n",
       "      <td>False</td>\n",
       "      <td>False</td>\n",
       "      <td>False</td>\n",
       "      <td>3</td>\n",
       "    </tr>\n",
       "    <tr>\n",
       "      <th>1</th>\n",
       "      <td>1000002</td>\n",
       "      <td>False</td>\n",
       "      <td>False</td>\n",
       "      <td>False</td>\n",
       "      <td>True</td>\n",
       "      <td>False</td>\n",
       "      <td>False</td>\n",
       "      <td>True</td>\n",
       "      <td>False</td>\n",
       "      <td>False</td>\n",
       "      <td>...</td>\n",
       "      <td>False</td>\n",
       "      <td>False</td>\n",
       "      <td>False</td>\n",
       "      <td>False</td>\n",
       "      <td>False</td>\n",
       "      <td>False</td>\n",
       "      <td>True</td>\n",
       "      <td>False</td>\n",
       "      <td>False</td>\n",
       "      <td>3</td>\n",
       "    </tr>\n",
       "    <tr>\n",
       "      <th>2</th>\n",
       "      <td>1000003</td>\n",
       "      <td>True</td>\n",
       "      <td>True</td>\n",
       "      <td>False</td>\n",
       "      <td>False</td>\n",
       "      <td>False</td>\n",
       "      <td>False</td>\n",
       "      <td>False</td>\n",
       "      <td>False</td>\n",
       "      <td>False</td>\n",
       "      <td>...</td>\n",
       "      <td>False</td>\n",
       "      <td>False</td>\n",
       "      <td>False</td>\n",
       "      <td>False</td>\n",
       "      <td>True</td>\n",
       "      <td>False</td>\n",
       "      <td>False</td>\n",
       "      <td>False</td>\n",
       "      <td>False</td>\n",
       "      <td>3</td>\n",
       "    </tr>\n",
       "    <tr>\n",
       "      <th>3</th>\n",
       "      <td>1000004</td>\n",
       "      <td>False</td>\n",
       "      <td>False</td>\n",
       "      <td>False</td>\n",
       "      <td>False</td>\n",
       "      <td>False</td>\n",
       "      <td>False</td>\n",
       "      <td>True</td>\n",
       "      <td>False</td>\n",
       "      <td>False</td>\n",
       "      <td>...</td>\n",
       "      <td>False</td>\n",
       "      <td>False</td>\n",
       "      <td>False</td>\n",
       "      <td>False</td>\n",
       "      <td>False</td>\n",
       "      <td>False</td>\n",
       "      <td>False</td>\n",
       "      <td>False</td>\n",
       "      <td>False</td>\n",
       "      <td>1</td>\n",
       "    </tr>\n",
       "    <tr>\n",
       "      <th>4</th>\n",
       "      <td>1000005</td>\n",
       "      <td>False</td>\n",
       "      <td>True</td>\n",
       "      <td>False</td>\n",
       "      <td>False</td>\n",
       "      <td>False</td>\n",
       "      <td>False</td>\n",
       "      <td>True</td>\n",
       "      <td>False</td>\n",
       "      <td>False</td>\n",
       "      <td>...</td>\n",
       "      <td>False</td>\n",
       "      <td>False</td>\n",
       "      <td>False</td>\n",
       "      <td>False</td>\n",
       "      <td>True</td>\n",
       "      <td>False</td>\n",
       "      <td>False</td>\n",
       "      <td>False</td>\n",
       "      <td>False</td>\n",
       "      <td>3</td>\n",
       "    </tr>\n",
       "    <tr>\n",
       "      <th>...</th>\n",
       "      <td>...</td>\n",
       "      <td>...</td>\n",
       "      <td>...</td>\n",
       "      <td>...</td>\n",
       "      <td>...</td>\n",
       "      <td>...</td>\n",
       "      <td>...</td>\n",
       "      <td>...</td>\n",
       "      <td>...</td>\n",
       "      <td>...</td>\n",
       "      <td>...</td>\n",
       "      <td>...</td>\n",
       "      <td>...</td>\n",
       "      <td>...</td>\n",
       "      <td>...</td>\n",
       "      <td>...</td>\n",
       "      <td>...</td>\n",
       "      <td>...</td>\n",
       "      <td>...</td>\n",
       "      <td>...</td>\n",
       "      <td>...</td>\n",
       "    </tr>\n",
       "    <tr>\n",
       "      <th>548830</th>\n",
       "      <td>1896371</td>\n",
       "      <td>False</td>\n",
       "      <td>False</td>\n",
       "      <td>True</td>\n",
       "      <td>False</td>\n",
       "      <td>False</td>\n",
       "      <td>False</td>\n",
       "      <td>True</td>\n",
       "      <td>False</td>\n",
       "      <td>False</td>\n",
       "      <td>...</td>\n",
       "      <td>False</td>\n",
       "      <td>False</td>\n",
       "      <td>False</td>\n",
       "      <td>False</td>\n",
       "      <td>False</td>\n",
       "      <td>False</td>\n",
       "      <td>False</td>\n",
       "      <td>False</td>\n",
       "      <td>False</td>\n",
       "      <td>2</td>\n",
       "    </tr>\n",
       "    <tr>\n",
       "      <th>548831</th>\n",
       "      <td>1896372</td>\n",
       "      <td>False</td>\n",
       "      <td>False</td>\n",
       "      <td>False</td>\n",
       "      <td>False</td>\n",
       "      <td>False</td>\n",
       "      <td>False</td>\n",
       "      <td>True</td>\n",
       "      <td>False</td>\n",
       "      <td>False</td>\n",
       "      <td>...</td>\n",
       "      <td>False</td>\n",
       "      <td>False</td>\n",
       "      <td>False</td>\n",
       "      <td>False</td>\n",
       "      <td>False</td>\n",
       "      <td>False</td>\n",
       "      <td>False</td>\n",
       "      <td>False</td>\n",
       "      <td>False</td>\n",
       "      <td>1</td>\n",
       "    </tr>\n",
       "    <tr>\n",
       "      <th>548832</th>\n",
       "      <td>1896373</td>\n",
       "      <td>False</td>\n",
       "      <td>False</td>\n",
       "      <td>False</td>\n",
       "      <td>True</td>\n",
       "      <td>False</td>\n",
       "      <td>False</td>\n",
       "      <td>True</td>\n",
       "      <td>False</td>\n",
       "      <td>False</td>\n",
       "      <td>...</td>\n",
       "      <td>False</td>\n",
       "      <td>False</td>\n",
       "      <td>False</td>\n",
       "      <td>False</td>\n",
       "      <td>False</td>\n",
       "      <td>False</td>\n",
       "      <td>False</td>\n",
       "      <td>False</td>\n",
       "      <td>False</td>\n",
       "      <td>2</td>\n",
       "    </tr>\n",
       "    <tr>\n",
       "      <th>548833</th>\n",
       "      <td>1896382</td>\n",
       "      <td>False</td>\n",
       "      <td>False</td>\n",
       "      <td>False</td>\n",
       "      <td>False</td>\n",
       "      <td>False</td>\n",
       "      <td>False</td>\n",
       "      <td>True</td>\n",
       "      <td>False</td>\n",
       "      <td>False</td>\n",
       "      <td>...</td>\n",
       "      <td>False</td>\n",
       "      <td>False</td>\n",
       "      <td>False</td>\n",
       "      <td>False</td>\n",
       "      <td>False</td>\n",
       "      <td>False</td>\n",
       "      <td>False</td>\n",
       "      <td>False</td>\n",
       "      <td>False</td>\n",
       "      <td>1</td>\n",
       "    </tr>\n",
       "    <tr>\n",
       "      <th>548834</th>\n",
       "      <td>1896391</td>\n",
       "      <td>False</td>\n",
       "      <td>False</td>\n",
       "      <td>False</td>\n",
       "      <td>False</td>\n",
       "      <td>False</td>\n",
       "      <td>False</td>\n",
       "      <td>False</td>\n",
       "      <td>False</td>\n",
       "      <td>False</td>\n",
       "      <td>...</td>\n",
       "      <td>False</td>\n",
       "      <td>True</td>\n",
       "      <td>False</td>\n",
       "      <td>False</td>\n",
       "      <td>False</td>\n",
       "      <td>False</td>\n",
       "      <td>False</td>\n",
       "      <td>False</td>\n",
       "      <td>False</td>\n",
       "      <td>1</td>\n",
       "    </tr>\n",
       "  </tbody>\n",
       "</table>\n",
       "<p>548835 rows × 21 columns</p>\n",
       "</div>"
      ],
      "text/plain": [
       "        movie_id  _Action  _Adventure  _Animation  _Comedy  _Crime  \\\n",
       "0        1000001    False        True       False     True   False   \n",
       "1        1000002    False       False       False     True   False   \n",
       "2        1000003     True        True       False    False   False   \n",
       "3        1000004    False       False       False    False   False   \n",
       "4        1000005    False        True       False    False   False   \n",
       "...          ...      ...         ...         ...      ...     ...   \n",
       "548830   1896371    False       False        True    False   False   \n",
       "548831   1896372    False       False       False    False   False   \n",
       "548832   1896373    False       False       False     True   False   \n",
       "548833   1896382    False       False       False    False   False   \n",
       "548834   1896391    False       False       False    False   False   \n",
       "\n",
       "        _Documentary  _Drama  _Family  _Fantasy  ...  _Horror  _Music  \\\n",
       "0              False   False    False      True  ...    False   False   \n",
       "1              False    True    False     False  ...    False   False   \n",
       "2              False   False    False     False  ...    False   False   \n",
       "3              False    True    False     False  ...    False   False   \n",
       "4              False    True    False     False  ...    False   False   \n",
       "...              ...     ...      ...       ...  ...      ...     ...   \n",
       "548830         False    True    False     False  ...    False   False   \n",
       "548831         False    True    False     False  ...    False   False   \n",
       "548832         False    True    False     False  ...    False   False   \n",
       "548833         False    True    False     False  ...    False   False   \n",
       "548834         False   False    False     False  ...    False    True   \n",
       "\n",
       "        _Mystery  _Romance  _Science Fiction  _TV Movie  _Thriller   _War  \\\n",
       "0          False     False             False      False      False  False   \n",
       "1          False     False             False      False       True  False   \n",
       "2          False     False              True      False      False  False   \n",
       "3          False     False             False      False      False  False   \n",
       "4          False     False              True      False      False  False   \n",
       "...          ...       ...               ...        ...        ...    ...   \n",
       "548830     False     False             False      False      False  False   \n",
       "548831     False     False             False      False      False  False   \n",
       "548832     False     False             False      False      False  False   \n",
       "548833     False     False             False      False      False  False   \n",
       "548834     False     False             False      False      False  False   \n",
       "\n",
       "        _Western  genre_count  \n",
       "0          False            3  \n",
       "1          False            3  \n",
       "2          False            3  \n",
       "3          False            1  \n",
       "4          False            3  \n",
       "...          ...          ...  \n",
       "548830     False            2  \n",
       "548831     False            1  \n",
       "548832     False            2  \n",
       "548833     False            1  \n",
       "548834     False            1  \n",
       "\n",
       "[548835 rows x 21 columns]"
      ]
     },
     "execution_count": 1,
     "metadata": {},
     "output_type": "execute_result"
    }
   ],
   "source": [
    "import pandas as pd\n",
    "from dataset import PosterDataset\n",
    "\n",
    "df = pd.read_csv(PosterDataset.csv_file)\n",
    "df"
   ]
  },
  {
   "cell_type": "code",
   "execution_count": 2,
   "metadata": {},
   "outputs": [],
   "source": [
    "import os\n",
    "\n",
    "# Specify the path of the data folder\n",
    "train_folder = \"data/yolo_dataset/train\"\n",
    "val_folder = \"data/yolo_dataset/val\"\n",
    "\n",
    "# Get the column names\n",
    "column_names = df.columns[1:20]\n",
    "\n",
    "# Create a folder for each column name inside the data folder\n",
    "for name in column_names:\n",
    "    os.makedirs(os.path.join(train_folder, name), exist_ok=True)\n",
    "    os.makedirs(os.path.join(val_folder, name), exist_ok=True)"
   ]
  },
  {
   "cell_type": "code",
   "execution_count": 3,
   "metadata": {},
   "outputs": [
    {
     "name": "stderr",
     "output_type": "stream",
     "text": [
      "100%|██████████| 548835/548835 [1:20:53<00:00, 113.09it/s]  \n"
     ]
    }
   ],
   "source": [
    "import numpy as np\n",
    "import shutil\n",
    "from tqdm import tqdm\n",
    "from sklearn.model_selection import train_test_split\n",
    "\n",
    "# Split the data into train and test sets\n",
    "train_df, val_df = train_test_split(df, test_size=0.2, random_state=42, shuffle=True)\n",
    "\n",
    "for id, movie_id in tqdm(enumerate(df[\"movie_id\"]), total=len(df[\"movie_id\"])):\n",
    "    for col, i in enumerate(df.iloc[id, np.arange(1, 20)]):\n",
    "        if i == 1:\n",
    "            if df[\"movie_id\"][id] in train_df[\"movie_id\"].values:\n",
    "                shutil.copy(\n",
    "                    f\"data/posters/{movie_id}.jpg\",\n",
    "                    f\"data/yolo_dataset/train/{column_names[col]}/{movie_id}.jpg\",\n",
    "                )\n",
    "            else:\n",
    "                shutil.copy(\n",
    "                    f\"data/posters/{movie_id}.jpg\",\n",
    "                    f\"data/yolo_dataset/val/{column_names[col]}/{movie_id}.jpg\",\n",
    "                )"
   ]
  },
  {
   "cell_type": "code",
   "execution_count": 1,
   "metadata": {},
   "outputs": [
    {
     "name": "stdout",
     "output_type": "stream",
     "text": [
      "Downloading https://github.com/ultralytics/assets/releases/download/v8.1.0/yolov8n-cls.pt to 'yolov8n-cls.pt'...\n",
      " Download failure, retrying 1/3 https://github.com/ultralytics/assets/releases/download/v8.1.0/yolov8n-cls.pt...\n",
      "Ultralytics YOLOv8.1.47  Python-3.11.8 torch-2.2.1 CUDA:0 (NVIDIA GeForce GTX 1660 SUPER, 6144MiB)\n",
      "\u001b[34m\u001b[1mengine\\trainer: \u001b[0mtask=classify, mode=train, model=yolov8n-cls.pt, data=data\\yolo_dataset, epochs=10, time=None, patience=100, batch=32, imgsz=224, save=True, save_period=-1, cache=False, device=0, workers=6, project=None, name=train, exist_ok=True, pretrained=True, optimizer=Adam, verbose=True, seed=0, deterministic=True, single_cls=False, rect=False, cos_lr=False, close_mosaic=10, resume=False, amp=True, fraction=1.0, profile=False, freeze=None, multi_scale=False, overlap_mask=True, mask_ratio=4, dropout=0.0, val=True, split=val, save_json=False, save_hybrid=False, conf=None, iou=0.7, max_det=300, half=False, dnn=False, plots=True, source=None, vid_stride=1, stream_buffer=False, visualize=False, augment=False, agnostic_nms=False, classes=None, retina_masks=False, embed=None, show=False, save_frames=False, save_txt=False, save_conf=False, save_crop=False, show_labels=True, show_conf=True, show_boxes=True, line_width=None, format=torchscript, keras=False, optimize=False, int8=False, dynamic=False, simplify=False, opset=None, workspace=4, nms=False, lr0=0.0001, lrf=0.01, momentum=0.937, weight_decay=0.0005, warmup_epochs=3.0, warmup_momentum=0.8, warmup_bias_lr=0.1, box=7.5, cls=0.5, dfl=1.5, pose=12.0, kobj=1.0, label_smoothing=0.0, nbs=64, hsv_h=0.015, hsv_s=0.7, hsv_v=0.4, degrees=0.0, translate=0.1, scale=0.5, shear=0.0, perspective=0.0, flipud=0.0, fliplr=0.5, bgr=0.0, mosaic=1.0, mixup=0.0, copy_paste=0.0, auto_augment=randaugment, erasing=0.4, crop_fraction=1.0, cfg=None, tracker=botsort.yaml, save_dir=runs\\classify\\train\n",
      "\u001b[34m\u001b[1mtrain:\u001b[0m C:\\Users\\USER\\Desktop\\STAT4012\\data\\yolo_dataset\\train... found 690022 images in 19 classes  \n",
      "\u001b[34m\u001b[1mval:\u001b[0m C:\\Users\\USER\\Desktop\\STAT4012\\data\\yolo_dataset\\val... found 172139 images in 19 classes  \n",
      "\u001b[34m\u001b[1mtest:\u001b[0m None...\n",
      "Overriding model.yaml nc=1000 with nc=19\n",
      "\n",
      "                   from  n    params  module                                       arguments                     \n",
      "  0                  -1  1       464  ultralytics.nn.modules.conv.Conv             [3, 16, 3, 2]                 \n",
      "  1                  -1  1      4672  ultralytics.nn.modules.conv.Conv             [16, 32, 3, 2]                \n",
      "  2                  -1  1      7360  ultralytics.nn.modules.block.C2f             [32, 32, 1, True]             \n",
      "  3                  -1  1     18560  ultralytics.nn.modules.conv.Conv             [32, 64, 3, 2]                \n",
      "  4                  -1  2     49664  ultralytics.nn.modules.block.C2f             [64, 64, 2, True]             \n",
      "  5                  -1  1     73984  ultralytics.nn.modules.conv.Conv             [64, 128, 3, 2]               \n",
      "  6                  -1  2    197632  ultralytics.nn.modules.block.C2f             [128, 128, 2, True]           \n",
      "  7                  -1  1    295424  ultralytics.nn.modules.conv.Conv             [128, 256, 3, 2]              \n",
      "  8                  -1  1    460288  ultralytics.nn.modules.block.C2f             [256, 256, 1, True]           \n",
      "  9                  -1  1    354579  ultralytics.nn.modules.head.Classify         [256, 19]                     \n",
      "YOLOv8n-cls summary: 99 layers, 1462627 parameters, 1462627 gradients\n",
      "Transferred 156/158 items from pretrained weights\n"
     ]
    },
    {
     "name": "stderr",
     "output_type": "stream",
     "text": [
      "Failed to detect the name of this notebook, you can set it manually with the WANDB_NOTEBOOK_NAME environment variable to enable code saving.\n",
      "\u001b[34m\u001b[1mwandb\u001b[0m: Currently logged in as: \u001b[33myatshingl\u001b[0m (\u001b[33mcuhkstat4012proj\u001b[0m). Use \u001b[1m`wandb login --relogin`\u001b[0m to force relogin\n"
     ]
    },
    {
     "data": {
      "text/html": [
       "wandb version 0.16.6 is available!  To upgrade, please run:\n",
       " $ pip install wandb --upgrade"
      ],
      "text/plain": [
       "<IPython.core.display.HTML object>"
      ]
     },
     "metadata": {},
     "output_type": "display_data"
    },
    {
     "data": {
      "text/html": [
       "Tracking run with wandb version 0.16.5"
      ],
      "text/plain": [
       "<IPython.core.display.HTML object>"
      ]
     },
     "metadata": {},
     "output_type": "display_data"
    },
    {
     "data": {
      "text/html": [
       "Run data is saved locally in <code>c:\\Users\\USER\\Desktop\\STAT4012\\wandb\\run-20240415_161311-nw94ysjc</code>"
      ],
      "text/plain": [
       "<IPython.core.display.HTML object>"
      ]
     },
     "metadata": {},
     "output_type": "display_data"
    },
    {
     "data": {
      "text/html": [
       "Syncing run <strong><a href='https://wandb.ai/cuhkstat4012proj/YOLOv8/runs/nw94ysjc/workspace' target=\"_blank\">train</a></strong> to <a href='https://wandb.ai/cuhkstat4012proj/YOLOv8' target=\"_blank\">Weights & Biases</a> (<a href='https://wandb.me/run' target=\"_blank\">docs</a>)<br/>"
      ],
      "text/plain": [
       "<IPython.core.display.HTML object>"
      ]
     },
     "metadata": {},
     "output_type": "display_data"
    },
    {
     "data": {
      "text/html": [
       " View project at <a href='https://wandb.ai/cuhkstat4012proj/YOLOv8' target=\"_blank\">https://wandb.ai/cuhkstat4012proj/YOLOv8</a>"
      ],
      "text/plain": [
       "<IPython.core.display.HTML object>"
      ]
     },
     "metadata": {},
     "output_type": "display_data"
    },
    {
     "data": {
      "text/html": [
       " View run at <a href='https://wandb.ai/cuhkstat4012proj/YOLOv8/runs/nw94ysjc/workspace' target=\"_blank\">https://wandb.ai/cuhkstat4012proj/YOLOv8/runs/nw94ysjc/workspace</a>"
      ],
      "text/plain": [
       "<IPython.core.display.HTML object>"
      ]
     },
     "metadata": {},
     "output_type": "display_data"
    },
    {
     "name": "stdout",
     "output_type": "stream",
     "text": [
      "\u001b[34m\u001b[1mAMP: \u001b[0mrunning Automatic Mixed Precision (AMP) checks with YOLOv8n...\n",
      "Downloading https://github.com/ultralytics/assets/releases/download/v8.1.0/yolov8n.pt to 'yolov8n.pt'...\n",
      " Download failure, retrying 1/3 https://github.com/ultralytics/assets/releases/download/v8.1.0/yolov8n.pt...\n",
      "\u001b[34m\u001b[1mAMP: \u001b[0mchecks passed \n"
     ]
    },
    {
     "name": "stderr",
     "output_type": "stream",
     "text": [
      "\u001b[34m\u001b[1mtrain: \u001b[0mScanning C:\\Users\\USER\\Desktop\\STAT4012\\data\\yolo_dataset\\train... 690022 images, 0 corrupt: 100%|██████████| 690022/690022 [09:53<00:00, 1162.76it/s] \n"
     ]
    },
    {
     "name": "stdout",
     "output_type": "stream",
     "text": [
      "\u001b[34m\u001b[1mtrain: \u001b[0mNew cache created: C:\\Users\\USER\\Desktop\\STAT4012\\data\\yolo_dataset\\train.cache\n"
     ]
    },
    {
     "name": "stderr",
     "output_type": "stream",
     "text": [
      "\u001b[34m\u001b[1mval: \u001b[0mScanning C:\\Users\\USER\\Desktop\\STAT4012\\data\\yolo_dataset\\val... 172139 images, 0 corrupt: 100%|██████████| 172139/172139 [02:25<00:00, 1180.19it/s]\n"
     ]
    },
    {
     "name": "stdout",
     "output_type": "stream",
     "text": [
      "\u001b[34m\u001b[1mval: \u001b[0mNew cache created: C:\\Users\\USER\\Desktop\\STAT4012\\data\\yolo_dataset\\val.cache\n",
      "\u001b[34m\u001b[1moptimizer:\u001b[0m Adam(lr=0.0001, momentum=0.937) with parameter groups 26 weight(decay=0.0), 27 weight(decay=0.0005), 27 bias(decay=0.0)\n",
      "Image sizes 224 train, 224 val\n",
      "Using 6 dataloader workers\n",
      "Logging results to \u001b[1mruns\\classify\\train\u001b[0m\n",
      "Starting training for 10 epochs...\n",
      "\n",
      "      Epoch    GPU_mem       loss  Instances       Size\n"
     ]
    },
    {
     "name": "stderr",
     "output_type": "stream",
     "text": [
      "       1/10     0.652G      2.365          6        224: 100%|██████████| 21564/21564 [35:19<00:00, 10.17it/s]  \n",
      "               classes   top1_acc   top5_acc: 100%|██████████| 2690/2690 [03:41<00:00, 12.15it/s]\n"
     ]
    },
    {
     "name": "stdout",
     "output_type": "stream",
     "text": [
      "                   all      0.304      0.726\n",
      "\n",
      "      Epoch    GPU_mem       loss  Instances       Size\n"
     ]
    },
    {
     "name": "stderr",
     "output_type": "stream",
     "text": [
      "       2/10     0.547G      2.279          6        224: 100%|██████████| 21564/21564 [37:10<00:00,  9.67it/s]  \n",
      "               classes   top1_acc   top5_acc: 100%|██████████| 2690/2690 [05:31<00:00,  8.10it/s]  \n"
     ]
    },
    {
     "name": "stdout",
     "output_type": "stream",
     "text": [
      "                   all      0.313      0.739\n",
      "\n",
      "      Epoch    GPU_mem       loss  Instances       Size\n"
     ]
    },
    {
     "name": "stderr",
     "output_type": "stream",
     "text": [
      "       3/10     0.547G      2.225          6        224: 100%|██████████| 21564/21564 [35:17<00:00, 10.19it/s]  \n",
      "               classes   top1_acc   top5_acc: 100%|██████████| 2690/2690 [03:24<00:00, 13.17it/s]\n"
     ]
    },
    {
     "name": "stdout",
     "output_type": "stream",
     "text": [
      "                   all      0.322      0.751\n",
      "\n",
      "      Epoch    GPU_mem       loss  Instances       Size\n"
     ]
    },
    {
     "name": "stderr",
     "output_type": "stream",
     "text": [
      "       4/10     0.547G      2.196          6        224: 100%|██████████| 21564/21564 [35:44<00:00, 10.06it/s]  \n",
      "               classes   top1_acc   top5_acc: 100%|██████████| 2690/2690 [04:59<00:00,  8.98it/s]  \n"
     ]
    },
    {
     "name": "stdout",
     "output_type": "stream",
     "text": [
      "                   all      0.332      0.761\n",
      "\n",
      "      Epoch    GPU_mem       loss  Instances       Size\n"
     ]
    },
    {
     "name": "stderr",
     "output_type": "stream",
     "text": [
      "       5/10     0.547G      2.178          6        224: 100%|██████████| 21564/21564 [35:13<00:00, 10.20it/s]  \n",
      "               classes   top1_acc   top5_acc: 100%|██████████| 2690/2690 [03:56<00:00, 11.38it/s]"
     ]
    },
    {
     "name": "stdout",
     "output_type": "stream",
     "text": [
      "                   all      0.341      0.768\n"
     ]
    },
    {
     "name": "stderr",
     "output_type": "stream",
     "text": [
      "\n"
     ]
    },
    {
     "name": "stdout",
     "output_type": "stream",
     "text": [
      "\n",
      "      Epoch    GPU_mem       loss  Instances       Size\n"
     ]
    },
    {
     "name": "stderr",
     "output_type": "stream",
     "text": [
      "       6/10     0.547G      2.166          6        224: 100%|██████████| 21564/21564 [35:29<00:00, 10.12it/s]  \n",
      "               classes   top1_acc   top5_acc: 100%|██████████| 2690/2690 [04:26<00:00, 10.08it/s] \n"
     ]
    },
    {
     "name": "stdout",
     "output_type": "stream",
     "text": [
      "                   all      0.346      0.772\n",
      "\n",
      "      Epoch    GPU_mem       loss  Instances       Size\n"
     ]
    },
    {
     "name": "stderr",
     "output_type": "stream",
     "text": [
      "       7/10     0.547G      2.154          6        224: 100%|██████████| 21564/21564 [35:22<00:00, 10.16it/s]  \n",
      "               classes   top1_acc   top5_acc: 100%|██████████| 2690/2690 [04:04<00:00, 10.98it/s] \n"
     ]
    },
    {
     "name": "stdout",
     "output_type": "stream",
     "text": [
      "                   all      0.349      0.775\n",
      "\n",
      "      Epoch    GPU_mem       loss  Instances       Size\n"
     ]
    },
    {
     "name": "stderr",
     "output_type": "stream",
     "text": [
      "       8/10     0.547G      2.145          6        224: 100%|██████████| 21564/21564 [35:54<00:00, 10.01it/s]  \n",
      "               classes   top1_acc   top5_acc: 100%|██████████| 2690/2690 [04:55<00:00,  9.09it/s]\n"
     ]
    },
    {
     "name": "stdout",
     "output_type": "stream",
     "text": [
      "                   all       0.35      0.777\n",
      "\n",
      "      Epoch    GPU_mem       loss  Instances       Size\n"
     ]
    },
    {
     "name": "stderr",
     "output_type": "stream",
     "text": [
      "       9/10     0.547G      2.136          6        224: 100%|██████████| 21564/21564 [35:05<00:00, 10.24it/s]  \n",
      "               classes   top1_acc   top5_acc: 100%|██████████| 2690/2690 [03:25<00:00, 13.07it/s]\n"
     ]
    },
    {
     "name": "stdout",
     "output_type": "stream",
     "text": [
      "                   all      0.351      0.778\n",
      "\n",
      "      Epoch    GPU_mem       loss  Instances       Size\n"
     ]
    },
    {
     "name": "stderr",
     "output_type": "stream",
     "text": [
      "      10/10     0.547G      2.128          6        224: 100%|██████████| 21564/21564 [35:52<00:00, 10.02it/s]  \n",
      "               classes   top1_acc   top5_acc: 100%|██████████| 2690/2690 [05:02<00:00,  8.90it/s] "
     ]
    },
    {
     "name": "stdout",
     "output_type": "stream",
     "text": [
      "                   all      0.351      0.779\n"
     ]
    },
    {
     "name": "stderr",
     "output_type": "stream",
     "text": [
      "\n"
     ]
    },
    {
     "name": "stdout",
     "output_type": "stream",
     "text": [
      "\n",
      "10 epochs completed in 6.708 hours.\n",
      "Optimizer stripped from runs\\classify\\train\\weights\\last.pt, 3.0MB\n",
      "Optimizer stripped from runs\\classify\\train\\weights\\best.pt, 3.0MB\n",
      "\n",
      "Validating runs\\classify\\train\\weights\\best.pt...\n",
      "Ultralytics YOLOv8.1.47  Python-3.11.8 torch-2.2.1 CUDA:0 (NVIDIA GeForce GTX 1660 SUPER, 6144MiB)\n",
      "YOLOv8n-cls summary (fused): 73 layers, 1459219 parameters, 0 gradients\n",
      "\u001b[34m\u001b[1mtrain:\u001b[0m C:\\Users\\USER\\Desktop\\STAT4012\\data\\yolo_dataset\\train... found 690022 images in 19 classes  \n",
      "\u001b[34m\u001b[1mval:\u001b[0m C:\\Users\\USER\\Desktop\\STAT4012\\data\\yolo_dataset\\val... found 172139 images in 19 classes  \n",
      "\u001b[34m\u001b[1mtest:\u001b[0m None...\n"
     ]
    },
    {
     "name": "stderr",
     "output_type": "stream",
     "text": [
      "               classes   top1_acc   top5_acc: 100%|██████████| 2690/2690 [03:18<00:00, 13.58it/s]\n"
     ]
    },
    {
     "name": "stdout",
     "output_type": "stream",
     "text": [
      "                   all      0.351      0.779\n",
      "Speed: 0.1ms preprocess, 0.7ms inference, 0.0ms loss, 0.0ms postprocess per image\n",
      "Results saved to \u001b[1mruns\\classify\\train\u001b[0m\n",
      "Results saved to \u001b[1mruns\\classify\\train\u001b[0m\n"
     ]
    },
    {
     "data": {
      "text/html": [
       "<style>\n",
       "    table.wandb td:nth-child(1) { padding: 0 10px; text-align: left ; width: auto;} td:nth-child(2) {text-align: left ; width: 100%}\n",
       "    .wandb-row { display: flex; flex-direction: row; flex-wrap: wrap; justify-content: flex-start; width: 100% }\n",
       "    .wandb-col { display: flex; flex-direction: column; flex-basis: 100%; flex: 1; padding: 10px; }\n",
       "    </style>\n",
       "<div class=\"wandb-row\"><div class=\"wandb-col\"><h3>Run history:</h3><br/><table class=\"wandb\"><tr><td>lr/pg0</td><td>█▅▁▁▁▁▁▁▁▁</td></tr><tr><td>lr/pg1</td><td>▃▆█▇▆▅▄▃▂▁</td></tr><tr><td>lr/pg2</td><td>▃▆█▇▆▅▄▃▂▁</td></tr><tr><td>metrics/accuracy_top1</td><td>▁▂▄▅▆▇████</td></tr><tr><td>metrics/accuracy_top5</td><td>▁▃▄▆▇▇▇███</td></tr><tr><td>model/GFLOPs</td><td>▁</td></tr><tr><td>model/parameters</td><td>▁</td></tr><tr><td>model/speed_PyTorch(ms)</td><td>▁</td></tr><tr><td>train/loss</td><td>█▅▄▃▂▂▂▂▁▁</td></tr></table><br/></div><div class=\"wandb-col\"><h3>Run summary:</h3><br/><table class=\"wandb\"><tr><td>lr/pg0</td><td>1e-05</td></tr><tr><td>lr/pg1</td><td>1e-05</td></tr><tr><td>lr/pg2</td><td>1e-05</td></tr><tr><td>metrics/accuracy_top1</td><td>0.35125</td></tr><tr><td>metrics/accuracy_top5</td><td>0.77889</td></tr><tr><td>model/GFLOPs</td><td>0.0</td></tr><tr><td>model/parameters</td><td>1462627</td></tr><tr><td>model/speed_PyTorch(ms)</td><td>0.747</td></tr><tr><td>train/loss</td><td>2.12758</td></tr><tr><td>val/loss</td><td>nan</td></tr></table><br/></div></div>"
      ],
      "text/plain": [
       "<IPython.core.display.HTML object>"
      ]
     },
     "metadata": {},
     "output_type": "display_data"
    },
    {
     "data": {
      "text/html": [
       " View run <strong style=\"color:#cdcd00\">train</strong> at: <a href='https://wandb.ai/cuhkstat4012proj/YOLOv8/runs/nw94ysjc/workspace' target=\"_blank\">https://wandb.ai/cuhkstat4012proj/YOLOv8/runs/nw94ysjc/workspace</a><br/>Synced 5 W&B file(s), 12 media file(s), 1 artifact file(s) and 0 other file(s)"
      ],
      "text/plain": [
       "<IPython.core.display.HTML object>"
      ]
     },
     "metadata": {},
     "output_type": "display_data"
    },
    {
     "data": {
      "text/html": [
       "Find logs at: <code>.\\wandb\\run-20240415_161311-nw94ysjc\\logs</code>"
      ],
      "text/plain": [
       "<IPython.core.display.HTML object>"
      ]
     },
     "metadata": {},
     "output_type": "display_data"
    },
    {
     "data": {
      "text/plain": [
       "ultralytics.utils.metrics.ClassifyMetrics object with attributes:\n",
       "\n",
       "confusion_matrix: <ultralytics.utils.metrics.ConfusionMatrix object at 0x00000253828A5C50>\n",
       "curves: []\n",
       "curves_results: []\n",
       "fitness: 0.5650723874568939\n",
       "keys: ['metrics/accuracy_top1', 'metrics/accuracy_top5']\n",
       "results_dict: {'metrics/accuracy_top1': 0.3512510061264038, 'metrics/accuracy_top5': 0.778893768787384, 'fitness': 0.5650723874568939}\n",
       "save_dir: WindowsPath('runs/classify/train')\n",
       "speed: {'preprocess': 0.0669041225303112, 'inference': 0.7356882021930047, 'loss': 0.0002839862381006354, 'postprocess': 0.00016802416364174852}\n",
       "task: 'classify'\n",
       "top1: 0.3512510061264038\n",
       "top5: 0.778893768787384"
      ]
     },
     "execution_count": 1,
     "metadata": {},
     "output_type": "execute_result"
    }
   ],
   "source": [
    "from ultralytics import YOLO\n",
    "model = YOLO(\"yolov8n-cls.pt\")\n",
    "model.train(data = \"data\\yolo_dataset\", \n",
    "            epochs = 5, \n",
    "            batch = 32, \n",
    "            optimizer = \"Adam\",\n",
    "            lr0 = 0.0001,\n",
    "            workers = 6,\n",
    "            device = 0,  \n",
    "            exist_ok = True, \n",
    "            save = True)"
   ]
  },
  {
   "cell_type": "code",
   "execution_count": 46,
   "metadata": {},
   "outputs": [
    {
     "name": "stdout",
     "output_type": "stream",
     "text": [
      "\n",
      "image 1/1 c:\\Users\\USER\\Desktop\\STAT4012\\data\\posters\\1000001.jpg: 224x224 _Comedy 0.32, _Drama 0.22, _Romance 0.18, _Animation 0.08, _Family 0.08, 5.0ms\n",
      "Speed: 3.0ms preprocess, 5.0ms inference, 0.0ms postprocess per image at shape (1, 3, 224, 224)\n"
     ]
    },
    {
     "data": {
      "text/plain": [
       "<Figure size 640x480 with 1 Axes>"
      ]
     },
     "metadata": {},
     "output_type": "display_data"
    }
   ],
   "source": [
    "import numpy as np\n",
    "import cv2\n",
    "import matplotlib.pyplot as plt\n",
    "\n",
    "\n",
    "model_predict = YOLO(\"runs/classify/train/weights/best.pt\")\n",
    "results = model_predict(\"data/posters/1000001.jpg\")\n"
   ]
  }
 ],
 "metadata": {
  "kernelspec": {
   "display_name": "stat4012proj",
   "language": "python",
   "name": "python3"
  },
  "language_info": {
   "codemirror_mode": {
    "name": "ipython",
    "version": 3
   },
   "file_extension": ".py",
   "mimetype": "text/x-python",
   "name": "python",
   "nbconvert_exporter": "python",
   "pygments_lexer": "ipython3",
   "version": "3.11.8"
  }
 },
 "nbformat": 4,
 "nbformat_minor": 2
}
