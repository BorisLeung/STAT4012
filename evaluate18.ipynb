{
 "cells": [
  {
   "cell_type": "code",
   "execution_count": 8,
   "metadata": {},
   "outputs": [
    {
     "data": {
      "text/plain": [
       "array([[5.9096091e-03, 1.8780015e-02, 1.3236778e-02, ..., 4.5237308e-03,\n",
       "        1.4008738e-03, 2.3258946e-04],\n",
       "       [2.4652281e-03, 1.8975829e-03, 1.5274537e-03, ..., 1.7141350e-02,\n",
       "        2.9268896e-04, 8.4046675e-05],\n",
       "       [2.8993608e-02, 7.7607580e-02, 4.1559402e-02, ..., 5.5505987e-03,\n",
       "        5.9728534e-04, 9.5455231e-05],\n",
       "       ...,\n",
       "       [2.5258152e-02, 1.6007029e-02, 2.2484516e-03, ..., 2.0169454e-02,\n",
       "        4.5092553e-03, 2.7794398e-05],\n",
       "       [7.1792738e-03, 1.3719053e-02, 3.4775727e-03, ..., 1.8464502e-02,\n",
       "        1.1106500e-02, 5.5939052e-03],\n",
       "       [4.4155668e-04, 6.5601862e-04, 1.6811199e-04, ..., 7.2238903e-04,\n",
       "        6.0856150e-04, 6.6429155e-04]], dtype=float32)"
      ]
     },
     "execution_count": 8,
     "metadata": {},
     "output_type": "execute_result"
    }
   ],
   "source": [
    "# load results\n",
    "import numpy as np\n",
    "\n",
    "resnet18_predictions = np.load(\"resnet18_predictions.npz\")[\"arr_0\"]\n",
    "resnet18_predictions"
   ]
  },
  {
   "cell_type": "code",
   "execution_count": 9,
   "metadata": {},
   "outputs": [],
   "source": [
    "import pandas as pd\n",
    "\n",
    "\n",
    "from dataset import PosterDataset\n",
    "\n",
    "df = pd.read_csv(PosterDataset.csv_file)\n",
    "true_values = df.iloc[:, -20:-1].values\n",
    "genres = df.columns[-20:-1]\n",
    "genres = list(map(lambda x: x[1:], genres))\n",
    "single_genres = df.genre_count == 1"
   ]
  },
  {
   "cell_type": "code",
   "execution_count": 10,
   "metadata": {},
   "outputs": [],
   "source": [
    "from sklearn.model_selection import train_test_split\n",
    "\n",
    "train_indices, test_indices = train_test_split(\n",
    "    np.arange(len(df)), test_size=0.2, random_state=42\n",
    ")\n",
    "test_mask = np.isin(np.arange(len(df)), test_indices)\n",
    "single_genres &= test_mask"
   ]
  },
  {
   "cell_type": "code",
   "execution_count": 15,
   "metadata": {},
   "outputs": [
    {
     "data": {
      "text/plain": [
       "(0.6162750963581851,\n",
       " 0.2814491567500852,\n",
       " 0.34001448930279726,\n",
       " 0.5364032931924305)"
      ]
     },
     "execution_count": 15,
     "metadata": {},
     "output_type": "execute_result"
    }
   ],
   "source": [
    "from sklearn.metrics import accuracy_score, f1_score, precision_score, roc_auc_score\n",
    "\n",
    "# calculate accuracy\n",
    "single_prediction = (\n",
    "    resnet18_predictions[single_genres]\n",
    "    == resnet18_predictions.max(axis=1)[single_genres][:, None]\n",
    ")\n",
    "\n",
    "roc_auc_score(true_values[single_genres], single_prediction, average=\"macro\"), f1_score(\n",
    "    true_values[single_genres], single_prediction, average=\"macro\"\n",
    "), precision_score(\n",
    "    true_values[single_genres], single_prediction, average=\"macro\"\n",
    "), accuracy_score(\n",
    "    true_values[single_genres], single_prediction\n",
    "),"
   ]
  },
  {
   "cell_type": "markdown",
   "metadata": {},
   "source": [
    "### 3 Single Label\n"
   ]
  },
  {
   "cell_type": "code",
   "execution_count": 12,
   "metadata": {},
   "outputs": [
    {
     "data": {
      "text/plain": [
       "3275"
      ]
     },
     "execution_count": 12,
     "metadata": {},
     "output_type": "execute_result"
    }
   ],
   "source": [
    "three_columns = [\"Action\", \"Romance\", \"Thriller\"]\n",
    "three_genres = np.isin(genres, three_columns)\n",
    "three_genres_index_mask = (\n",
    "    true_values[:, three_genres].sum(axis=1) >= 1\n",
    ") & single_genres\n",
    "three_genres_index_mask.sum()"
   ]
  },
  {
   "cell_type": "code",
   "execution_count": 16,
   "metadata": {},
   "outputs": [
    {
     "data": {
      "text/plain": [
       "(0.7742326413464683,\n",
       " 0.6976424788789392,\n",
       " 0.6971367086670432,\n",
       " 0.6970992366412214)"
      ]
     },
     "execution_count": 16,
     "metadata": {},
     "output_type": "execute_result"
    }
   ],
   "source": [
    "from sklearn.metrics import accuracy_score, f1_score\n",
    "\n",
    "# calculate accuracy\n",
    "three_single_prediction = resnet18_predictions[three_genres_index_mask,][\n",
    "    :, three_genres\n",
    "]\n",
    "three_single_prediction_classes = (\n",
    "    three_single_prediction == three_single_prediction.max(axis=1)[:, None]\n",
    ")\n",
    "\n",
    "roc_auc_score(\n",
    "    true_values[three_genres_index_mask,][:, three_genres],\n",
    "    three_single_prediction_classes,\n",
    "    average=\"macro\",\n",
    "), f1_score(\n",
    "    true_values[three_genres_index_mask,][:, three_genres],\n",
    "    three_single_prediction_classes,\n",
    "    average=\"macro\",\n",
    "), precision_score(\n",
    "    true_values[three_genres_index_mask,][:, three_genres],\n",
    "    three_single_prediction_classes,\n",
    "    average=\"macro\",\n",
    "), accuracy_score(\n",
    "    three_single_prediction_classes,\n",
    "    true_values[three_genres_index_mask,][:, three_genres],\n",
    ")"
   ]
  },
  {
   "cell_type": "code",
   "execution_count": 14,
   "metadata": {},
   "outputs": [
    {
     "data": {
      "text/plain": [
       "array([0.33374046, 0.33526718, 0.33099237])"
      ]
     },
     "execution_count": 14,
     "metadata": {},
     "output_type": "execute_result"
    }
   ],
   "source": [
    "three_single_prediction_classes.sum(axis=0) / three_single_prediction.shape[0]"
   ]
  }
 ],
 "metadata": {
  "kernelspec": {
   "display_name": "stat4012proj",
   "language": "python",
   "name": "python3"
  },
  "language_info": {
   "codemirror_mode": {
    "name": "ipython",
    "version": 3
   },
   "file_extension": ".py",
   "mimetype": "text/x-python",
   "name": "python",
   "nbconvert_exporter": "python",
   "pygments_lexer": "ipython3",
   "version": "3.11.7"
  }
 },
 "nbformat": 4,
 "nbformat_minor": 2
}
