{
 "cells": [
  {
   "cell_type": "code",
   "execution_count": 1,
   "metadata": {},
   "outputs": [],
   "source": [
    "import pandas as pd\n",
    "\n",
    "df = pd.read_csv(\"data/genres.csv\")\n",
    "id = pd.read_csv(\"valid_movies.csv\")"
   ]
  },
  {
   "cell_type": "code",
   "execution_count": 3,
   "metadata": {},
   "outputs": [],
   "source": [
    "import os\n",
    "import pandas as pd\n",
    "from dataset import PosterDataset\n",
    "\n",
    "# Specify the path of the data folder\n",
    "train_folder = \"data/yolo_dataset_singlecls/train\"\n",
    "val_folder = \"data/yolo_dataset_singlecls/val\"\n",
    "\n",
    "# Get the column names\n",
    "genres = df[\"genre\"].unique()\n",
    "\n",
    "# Create a folder for each column name inside the data folder\n",
    "for genre in genres:\n",
    "    os.makedirs(os.path.join(train_folder, genre), exist_ok=True)\n",
    "    os.makedirs(os.path.join(val_folder, genre), exist_ok=True)"
   ]
  },
  {
   "cell_type": "code",
   "execution_count": 4,
   "metadata": {},
   "outputs": [
    {
     "name": "stderr",
     "output_type": "stream",
     "text": [
      "100%|██████████| 552531/552531 [52:51<00:00, 174.23it/s]  \n"
     ]
    }
   ],
   "source": [
    "import numpy as np\n",
    "import shutil\n",
    "from tqdm import tqdm\n",
    "from sklearn.model_selection import train_test_split\n",
    "\n",
    "# Split the data into train and test sets\n",
    "train_id, val_id = train_test_split(\n",
    "    df[\"id\"].unique(), test_size=0.2, random_state=42, shuffle=True\n",
    ")\n",
    "\n",
    "for movie_id in tqdm(id[\"movie_id\"]):\n",
    "    row = df[df[\"id\"] == movie_id]\n",
    "    genre = row.values[0][1]\n",
    "    if movie_id in train_id:\n",
    "        shutil.copy(\n",
    "            f\"data/posters/{movie_id}.jpg\", f\"{train_folder}/{genre}/{movie_id}.jpg\"\n",
    "        )\n",
    "    else:\n",
    "        shutil.copy(\n",
    "            f\"data/posters/{movie_id}.jpg\", f\"{val_folder}/{genre}/{movie_id}.jpg\"\n",
    "        )"
   ]
  },
  {
   "cell_type": "code",
   "execution_count": 8,
   "metadata": {},
   "outputs": [
    {
     "name": "stdout",
     "output_type": "stream",
     "text": [
      "New https://pypi.org/project/ultralytics/8.2.0 available  Update with 'pip install -U ultralytics'\n",
      "Ultralytics YOLOv8.1.47  Python-3.11.8 torch-2.2.1 CUDA:0 (NVIDIA GeForce GTX 1660 SUPER, 6144MiB)\n",
      "\u001b[34m\u001b[1mengine\\trainer: \u001b[0mtask=classify, mode=train, model=yolov8n-cls.pt, data=data/yolo_dataset_singlecls, epochs=10, time=None, patience=100, batch=32, imgsz=224, save=True, save_period=-1, cache=False, device=0, workers=6, project=None, name=train, exist_ok=True, pretrained=True, optimizer=Adam, verbose=True, seed=0, deterministic=True, single_cls=False, rect=False, cos_lr=False, close_mosaic=10, resume=False, amp=True, fraction=1.0, profile=False, freeze=None, multi_scale=False, overlap_mask=True, mask_ratio=4, dropout=0.0, val=True, split=val, save_json=False, save_hybrid=False, conf=None, iou=0.7, max_det=300, half=False, dnn=False, plots=True, source=None, vid_stride=1, stream_buffer=False, visualize=False, augment=False, agnostic_nms=False, classes=None, retina_masks=False, embed=None, show=False, save_frames=False, save_txt=False, save_conf=False, save_crop=False, show_labels=True, show_conf=True, show_boxes=True, line_width=None, format=torchscript, keras=False, optimize=False, int8=False, dynamic=False, simplify=False, opset=None, workspace=4, nms=False, lr0=0.001, lrf=0.01, momentum=0.937, weight_decay=0.0005, warmup_epochs=3.0, warmup_momentum=0.8, warmup_bias_lr=0.1, box=7.5, cls=0.5, dfl=1.5, pose=12.0, kobj=1.0, label_smoothing=0.0, nbs=64, hsv_h=0.015, hsv_s=0.7, hsv_v=0.4, degrees=0.0, translate=0.1, scale=0.5, shear=0.0, perspective=0.0, flipud=0.0, fliplr=0.5, bgr=0.0, mosaic=1.0, mixup=0.0, copy_paste=0.0, auto_augment=randaugment, erasing=0.4, crop_fraction=1.0, cfg=None, tracker=botsort.yaml, save_dir=runs\\classify\\train\n",
      "\u001b[34m\u001b[1mtrain:\u001b[0m C:\\Users\\USER\\Desktop\\STAT4012\\data\\yolo_dataset_singlecls\\train... found 441954 images in 19 classes  \n",
      "\u001b[34m\u001b[1mval:\u001b[0m C:\\Users\\USER\\Desktop\\STAT4012\\data\\yolo_dataset_singlecls\\val... found 110577 images in 19 classes  \n",
      "\u001b[34m\u001b[1mtest:\u001b[0m None...\n",
      "Overriding model.yaml nc=1000 with nc=19\n",
      "\n",
      "                   from  n    params  module                                       arguments                     \n",
      "  0                  -1  1       464  ultralytics.nn.modules.conv.Conv             [3, 16, 3, 2]                 \n",
      "  1                  -1  1      4672  ultralytics.nn.modules.conv.Conv             [16, 32, 3, 2]                \n",
      "  2                  -1  1      7360  ultralytics.nn.modules.block.C2f             [32, 32, 1, True]             \n",
      "  3                  -1  1     18560  ultralytics.nn.modules.conv.Conv             [32, 64, 3, 2]                \n",
      "  4                  -1  2     49664  ultralytics.nn.modules.block.C2f             [64, 64, 2, True]             \n",
      "  5                  -1  1     73984  ultralytics.nn.modules.conv.Conv             [64, 128, 3, 2]               \n",
      "  6                  -1  2    197632  ultralytics.nn.modules.block.C2f             [128, 128, 2, True]           \n",
      "  7                  -1  1    295424  ultralytics.nn.modules.conv.Conv             [128, 256, 3, 2]              \n",
      "  8                  -1  1    460288  ultralytics.nn.modules.block.C2f             [256, 256, 1, True]           \n",
      "  9                  -1  1    354579  ultralytics.nn.modules.head.Classify         [256, 19]                     \n",
      "YOLOv8n-cls summary: 99 layers, 1462627 parameters, 1462627 gradients\n",
      "Transferred 156/158 items from pretrained weights\n",
      "\u001b[34m\u001b[1mAMP: \u001b[0mrunning Automatic Mixed Precision (AMP) checks with YOLOv8n...\n",
      "\u001b[34m\u001b[1mAMP: \u001b[0mchecks passed \n"
     ]
    },
    {
     "name": "stderr",
     "output_type": "stream",
     "text": [
      "\u001b[34m\u001b[1mtrain: \u001b[0mScanning C:\\Users\\USER\\Desktop\\STAT4012\\data\\yolo_dataset_singlecls\\train... 441954 images, 0 corrupt: 100%|██████████| 441954/441954 [00:00<?, ?it/s]\n",
      "\u001b[34m\u001b[1mval: \u001b[0mScanning C:\\Users\\USER\\Desktop\\STAT4012\\data\\yolo_dataset_singlecls\\val... 110577 images, 0 corrupt: 100%|██████████| 110577/110577 [00:00<?, ?it/s]\n"
     ]
    },
    {
     "name": "stdout",
     "output_type": "stream",
     "text": [
      "\u001b[34m\u001b[1moptimizer:\u001b[0m Adam(lr=0.001, momentum=0.937) with parameter groups 26 weight(decay=0.0), 27 weight(decay=0.0005), 27 bias(decay=0.0)\n",
      "Image sizes 224 train, 224 val\n",
      "Using 6 dataloader workers\n",
      "Logging results to \u001b[1mruns\\classify\\train\u001b[0m\n",
      "Starting training for 10 epochs...\n",
      "\n",
      "      Epoch    GPU_mem       loss  Instances       Size\n"
     ]
    },
    {
     "name": "stderr",
     "output_type": "stream",
     "text": [
      "       1/10     0.742G      2.171          2        224: 100%|██████████| 13812/13812 [22:29<00:00, 10.23it/s]  \n",
      "               classes   top1_acc   top5_acc: 100%|██████████| 1728/1728 [03:18<00:00,  8.72it/s]\n"
     ]
    },
    {
     "name": "stdout",
     "output_type": "stream",
     "text": [
      "                   all      0.374      0.797\n",
      "\n",
      "      Epoch    GPU_mem       loss  Instances       Size\n"
     ]
    },
    {
     "name": "stderr",
     "output_type": "stream",
     "text": [
      "       2/10     0.707G      2.142          2        224: 100%|██████████| 13812/13812 [22:25<00:00, 10.26it/s]  \n",
      "               classes   top1_acc   top5_acc: 100%|██████████| 1728/1728 [02:25<00:00, 11.85it/s]\n"
     ]
    },
    {
     "name": "stdout",
     "output_type": "stream",
     "text": [
      "                   all      0.357      0.789\n",
      "\n",
      "      Epoch    GPU_mem       loss  Instances       Size\n"
     ]
    },
    {
     "name": "stderr",
     "output_type": "stream",
     "text": [
      "       3/10     0.707G      2.121          2        224: 100%|██████████| 13812/13812 [21:15<00:00, 10.83it/s] \n",
      "               classes   top1_acc   top5_acc: 100%|██████████| 1728/1728 [02:41<00:00, 10.70it/s]"
     ]
    },
    {
     "name": "stdout",
     "output_type": "stream",
     "text": [
      "                   all      0.333      0.774\n"
     ]
    },
    {
     "name": "stderr",
     "output_type": "stream",
     "text": [
      "\n"
     ]
    },
    {
     "name": "stdout",
     "output_type": "stream",
     "text": [
      "\n",
      "      Epoch    GPU_mem       loss  Instances       Size\n"
     ]
    },
    {
     "name": "stderr",
     "output_type": "stream",
     "text": [
      "       4/10     0.707G      2.114          2        224: 100%|██████████| 13812/13812 [21:06<00:00, 10.90it/s] \n",
      "               classes   top1_acc   top5_acc: 100%|██████████| 1728/1728 [02:55<00:00,  9.83it/s]\n"
     ]
    },
    {
     "name": "stdout",
     "output_type": "stream",
     "text": [
      "                   all      0.329       0.77\n",
      "\n",
      "      Epoch    GPU_mem       loss  Instances       Size\n"
     ]
    },
    {
     "name": "stderr",
     "output_type": "stream",
     "text": [
      "       5/10     0.707G        2.1          2        224: 100%|██████████| 13812/13812 [21:27<00:00, 10.73it/s] \n",
      "               classes   top1_acc   top5_acc: 100%|██████████| 1728/1728 [02:28<00:00, 11.63it/s]\n"
     ]
    },
    {
     "name": "stdout",
     "output_type": "stream",
     "text": [
      "                   all      0.348      0.783\n",
      "\n",
      "      Epoch    GPU_mem       loss  Instances       Size\n"
     ]
    },
    {
     "name": "stderr",
     "output_type": "stream",
     "text": [
      "       6/10     0.707G      2.084          2        224: 100%|██████████| 13812/13812 [22:15<00:00, 10.34it/s] \n",
      "               classes   top1_acc   top5_acc: 100%|██████████| 1728/1728 [02:11<00:00, 13.14it/s]\n"
     ]
    },
    {
     "name": "stdout",
     "output_type": "stream",
     "text": [
      "                   all      0.365      0.794\n",
      "\n",
      "      Epoch    GPU_mem       loss  Instances       Size\n"
     ]
    },
    {
     "name": "stderr",
     "output_type": "stream",
     "text": [
      "       7/10     0.707G      2.069          2        224: 100%|██████████| 13812/13812 [22:13<00:00, 10.36it/s] \n",
      "               classes   top1_acc   top5_acc: 100%|██████████| 1728/1728 [03:13<00:00,  8.93it/s]\n"
     ]
    },
    {
     "name": "stdout",
     "output_type": "stream",
     "text": [
      "                   all      0.377      0.802\n",
      "\n",
      "      Epoch    GPU_mem       loss  Instances       Size\n"
     ]
    },
    {
     "name": "stderr",
     "output_type": "stream",
     "text": [
      "       8/10     0.707G      2.051          2        224: 100%|██████████| 13812/13812 [20:45<00:00, 11.09it/s] \n",
      "               classes   top1_acc   top5_acc: 100%|██████████| 1728/1728 [02:28<00:00, 11.67it/s]\n"
     ]
    },
    {
     "name": "stdout",
     "output_type": "stream",
     "text": [
      "                   all      0.386      0.807\n",
      "\n",
      "      Epoch    GPU_mem       loss  Instances       Size\n"
     ]
    },
    {
     "name": "stderr",
     "output_type": "stream",
     "text": [
      "       9/10     0.707G      2.034          2        224: 100%|██████████| 13812/13812 [21:04<00:00, 10.92it/s] \n",
      "               classes   top1_acc   top5_acc: 100%|██████████| 1728/1728 [02:39<00:00, 10.82it/s]\n"
     ]
    },
    {
     "name": "stdout",
     "output_type": "stream",
     "text": [
      "                   all      0.392       0.81\n",
      "\n",
      "      Epoch    GPU_mem       loss  Instances       Size\n"
     ]
    },
    {
     "name": "stderr",
     "output_type": "stream",
     "text": [
      "      10/10     0.707G      2.014          2        224: 100%|██████████| 13812/13812 [21:31<00:00, 10.69it/s]  \n",
      "               classes   top1_acc   top5_acc: 100%|██████████| 1728/1728 [02:23<00:00, 12.05it/s]"
     ]
    },
    {
     "name": "stdout",
     "output_type": "stream",
     "text": [
      "                   all      0.397      0.813\n"
     ]
    },
    {
     "name": "stderr",
     "output_type": "stream",
     "text": [
      "\n"
     ]
    },
    {
     "name": "stdout",
     "output_type": "stream",
     "text": [
      "\n",
      "10 epochs completed in 4.083 hours.\n",
      "Optimizer stripped from runs\\classify\\train\\weights\\last.pt, 3.0MB\n",
      "Optimizer stripped from runs\\classify\\train\\weights\\best.pt, 3.0MB\n",
      "\n",
      "Validating runs\\classify\\train\\weights\\best.pt...\n",
      "Ultralytics YOLOv8.1.47  Python-3.11.8 torch-2.2.1 CUDA:0 (NVIDIA GeForce GTX 1660 SUPER, 6144MiB)\n",
      "YOLOv8n-cls summary (fused): 73 layers, 1459219 parameters, 0 gradients\n",
      "\u001b[34m\u001b[1mtrain:\u001b[0m C:\\Users\\USER\\Desktop\\STAT4012\\data\\yolo_dataset_singlecls\\train... found 441954 images in 19 classes  \n",
      "\u001b[34m\u001b[1mval:\u001b[0m C:\\Users\\USER\\Desktop\\STAT4012\\data\\yolo_dataset_singlecls\\val... found 110577 images in 19 classes  \n",
      "\u001b[34m\u001b[1mtest:\u001b[0m None...\n"
     ]
    },
    {
     "name": "stderr",
     "output_type": "stream",
     "text": [
      "               classes   top1_acc   top5_acc: 100%|██████████| 1728/1728 [01:55<00:00, 15.00it/s]\n"
     ]
    },
    {
     "name": "stdout",
     "output_type": "stream",
     "text": [
      "                   all      0.397      0.813\n",
      "Speed: 0.1ms preprocess, 0.7ms inference, 0.0ms loss, 0.0ms postprocess per image\n",
      "Results saved to \u001b[1mruns\\classify\\train\u001b[0m\n",
      "Results saved to \u001b[1mruns\\classify\\train\u001b[0m\n"
     ]
    },
    {
     "data": {
      "text/html": [
       "<style>\n",
       "    table.wandb td:nth-child(1) { padding: 0 10px; text-align: left ; width: auto;} td:nth-child(2) {text-align: left ; width: 100%}\n",
       "    .wandb-row { display: flex; flex-direction: row; flex-wrap: wrap; justify-content: flex-start; width: 100% }\n",
       "    .wandb-col { display: flex; flex-direction: column; flex-basis: 100%; flex: 1; padding: 10px; }\n",
       "    </style>\n",
       "<div class=\"wandb-row\"><div class=\"wandb-col\"><h3>Run history:</h3><br/><table class=\"wandb\"><tr><td>lr/pg0</td><td>█▅▁▁▁▁▁▁▁▁</td></tr><tr><td>lr/pg1</td><td>▃▆█▇▆▅▄▃▂▁</td></tr><tr><td>lr/pg2</td><td>▃▆█▇▆▅▄▃▂▁</td></tr><tr><td>metrics/accuracy_top1</td><td>▆▄▁▁▃▅▆▇▇█</td></tr><tr><td>metrics/accuracy_top5</td><td>▅▄▂▁▃▅▆▇██</td></tr><tr><td>model/GFLOPs</td><td>▁</td></tr><tr><td>model/parameters</td><td>▁</td></tr><tr><td>model/speed_PyTorch(ms)</td><td>▁</td></tr><tr><td>train/loss</td><td>█▇▆▅▅▄▃▃▂▁</td></tr></table><br/></div><div class=\"wandb-col\"><h3>Run summary:</h3><br/><table class=\"wandb\"><tr><td>lr/pg0</td><td>0.00011</td></tr><tr><td>lr/pg1</td><td>0.00011</td></tr><tr><td>lr/pg2</td><td>0.00011</td></tr><tr><td>metrics/accuracy_top1</td><td>0.39697</td></tr><tr><td>metrics/accuracy_top5</td><td>0.81304</td></tr><tr><td>model/GFLOPs</td><td>0.0</td></tr><tr><td>model/parameters</td><td>1462627</td></tr><tr><td>model/speed_PyTorch(ms)</td><td>0.752</td></tr><tr><td>train/loss</td><td>2.01389</td></tr><tr><td>val/loss</td><td>nan</td></tr></table><br/></div></div>"
      ],
      "text/plain": [
       "<IPython.core.display.HTML object>"
      ]
     },
     "metadata": {},
     "output_type": "display_data"
    },
    {
     "data": {
      "text/html": [
       " View run <strong style=\"color:#cdcd00\">train</strong> at: <a href='https://wandb.ai/cuhkstat4012proj/YOLOv8/runs/e09tafy3/workspace' target=\"_blank\">https://wandb.ai/cuhkstat4012proj/YOLOv8/runs/e09tafy3/workspace</a><br/>Synced 5 W&B file(s), 12 media file(s), 1 artifact file(s) and 0 other file(s)"
      ],
      "text/plain": [
       "<IPython.core.display.HTML object>"
      ]
     },
     "metadata": {},
     "output_type": "display_data"
    },
    {
     "data": {
      "text/html": [
       "Find logs at: <code>.\\wandb\\run-20240417_185257-e09tafy3\\logs</code>"
      ],
      "text/plain": [
       "<IPython.core.display.HTML object>"
      ]
     },
     "metadata": {},
     "output_type": "display_data"
    },
    {
     "data": {
      "text/plain": [
       "ultralytics.utils.metrics.ClassifyMetrics object with attributes:\n",
       "\n",
       "confusion_matrix: <ultralytics.utils.metrics.ConfusionMatrix object at 0x000002417F3913D0>\n",
       "curves: []\n",
       "curves_results: []\n",
       "fitness: 0.6050037890672684\n",
       "keys: ['metrics/accuracy_top1', 'metrics/accuracy_top5']\n",
       "results_dict: {'metrics/accuracy_top1': 0.39697226881980896, 'metrics/accuracy_top5': 0.8130353093147278, 'fitness': 0.6050037890672684}\n",
       "save_dir: WindowsPath('runs/classify/train')\n",
       "speed: {'preprocess': 0.06750005852810975, 'inference': 0.7081105237163374, 'loss': 0.000198452521221293, 'postprocess': 0.00017142109763233426}\n",
       "task: 'classify'\n",
       "top1: 0.39697226881980896\n",
       "top5: 0.8130353093147278"
      ]
     },
     "execution_count": 8,
     "metadata": {},
     "output_type": "execute_result"
    }
   ],
   "source": [
    "from ultralytics import YOLO\n",
    "\n",
    "yolo_singlecls = YOLO(\"yolov8n-cls\")\n",
    "yolo_singlecls.train(data = \"data/yolo_dataset_singlecls\", \n",
    "            epochs = 10, \n",
    "            batch = 32, \n",
    "            optimizer = \"Adam\",\n",
    "            lr0 = 1e-3,\n",
    "            workers = 6,\n",
    "            device = 0,  \n",
    "            exist_ok = True, \n",
    "            save = True)"
   ]
  },
  {
   "cell_type": "code",
   "execution_count": 13,
   "metadata": {},
   "outputs": [
    {
     "name": "stdout",
     "output_type": "stream",
     "text": [
      "\n",
      "image 1/1 c:\\Users\\USER\\Desktop\\STAT4012\\img\\cuhk-logo.png: 224x224 Animation 0.21, Documentary 0.20, Comedy 0.19, Drama 0.11, Music 0.09, 10.0ms\n",
      "Speed: 34.9ms preprocess, 10.0ms inference, 0.0ms postprocess per image at shape (1, 3, 224, 224)\n"
     ]
    },
    {
     "data": {
      "text/plain": [
       "ultralytics.engine.results.Probs object with attributes:\n",
       "\n",
       "data: tensor([0.0105, 0.0100, 0.2110, 0.1923, 0.0084, 0.2005, 0.1104, 0.0468, 0.0179, 0.0071, 0.0201, 0.0878, 0.0061, 0.0280, 0.0087, 0.0188, 0.0101, 0.0029, 0.0026], device='cuda:0')\n",
       "orig_shape: None\n",
       "shape: torch.Size([19])\n",
       "top1: 2\n",
       "top1conf: tensor(0.2110, device='cuda:0')\n",
       "top5: [2, 5, 3, 6, 11]\n",
       "top5conf: tensor([0.2110, 0.2005, 0.1923, 0.1104, 0.0878], device='cuda:0')"
      ]
     },
     "execution_count": 13,
     "metadata": {},
     "output_type": "execute_result"
    }
   ],
   "source": [
    "yolov8singlecls = YOLO(\"runs/classify/train/weights/best.pt\")\n",
    "result = yolov8singlecls(\"img/cuhk-logo.png\")\n",
    "result[0].probs"
   ]
  }
 ],
 "metadata": {
  "kernelspec": {
   "display_name": "playtorch",
   "language": "python",
   "name": "python3"
  },
  "language_info": {
   "codemirror_mode": {
    "name": "ipython",
    "version": 3
   },
   "file_extension": ".py",
   "mimetype": "text/x-python",
   "name": "python",
   "nbconvert_exporter": "python",
   "pygments_lexer": "ipython3",
   "version": "3.11.8"
  }
 },
 "nbformat": 4,
 "nbformat_minor": 2
}
