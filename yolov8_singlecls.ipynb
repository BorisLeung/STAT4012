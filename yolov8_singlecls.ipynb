{
 "cells": [
  {
   "cell_type": "code",
   "execution_count": 2,
   "metadata": {},
   "outputs": [],
   "source": [
    "import pandas as pd\n",
    "\n",
    "df = pd.read_csv(\"data/genres.csv\")\n",
    "id = pd.read_csv(\"valid_movies.csv\")"
   ]
  },
  {
   "cell_type": "code",
   "execution_count": 39,
   "metadata": {},
   "outputs": [],
   "source": [
    "import os\n",
    "import pandas as pd\n",
    "from dataset import PosterDataset\n",
    "\n",
    "# Specify the path of the data folder\n",
    "train_folder = \"data/yolo_dataset_singlecls/train\"\n",
    "val_folder = \"data/yolo_dataset_singlecls/val\"\n",
    "\n",
    "# Get the column names\n",
    "genres = df[\"genre\"].unique()\n",
    "\n",
    "# Create a folder for each column name inside the data folder\n",
    "for genre in genres:\n",
    "    os.makedirs(os.path.join(train_folder, genre), exist_ok=True)\n",
    "    os.makedirs(os.path.join(val_folder, genre), exist_ok=True)"
   ]
  },
  {
   "cell_type": "code",
   "execution_count": null,
   "metadata": {},
   "outputs": [],
   "source": [
    "import numpy as np\n",
    "import shutil\n",
    "from tqdm import tqdm\n",
    "from sklearn.model_selection import train_test_split\n",
    "\n",
    "# Split the data into train and test sets\n",
    "train_id, val_id = train_test_split(\n",
    "    df[\"id\"].unique(), test_size=0.2, random_state=42, shuffle=True\n",
    ")\n",
    "\n",
    "for movie_id in tqdm(id[\"movie_id\"]):\n",
    "    row = df[df[\"id\"] == movie_id]\n",
    "    genre = row.values[0][1]\n",
    "    if movie_id in train_id:\n",
    "        shutil.copy(\n",
    "            f\"data/posters/{movie_id}.jpg\", f\"{train_folder}/{genre}/{movie_id}.jpg\"\n",
    "        )\n",
    "    else:\n",
    "        shutil.copy(\n",
    "            f\"data/posters/{movie_id}.jpg\", f\"{val_folder}/{genre}/{movie_id}.jpg\"\n",
    "        )"
   ]
  }
 ],
 "metadata": {
  "kernelspec": {
   "display_name": "playtorch",
   "language": "python",
   "name": "python3"
  },
  "language_info": {
   "codemirror_mode": {
    "name": "ipython",
    "version": 3
   },
   "file_extension": ".py",
   "mimetype": "text/x-python",
   "name": "python",
   "nbconvert_exporter": "python",
   "pygments_lexer": "ipython3",
   "version": "3.11.7"
  }
 },
 "nbformat": 4,
 "nbformat_minor": 2
}
