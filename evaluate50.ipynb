{
 "cells": [
  {
   "cell_type": "code",
   "execution_count": 8,
   "metadata": {},
   "outputs": [
    {
     "data": {
      "text/plain": [
       "array([[1.36235785e-02, 3.86725925e-02, 2.27730751e-01, ...,\n",
       "        3.41898296e-03, 6.84319704e-04, 1.10790820e-03],\n",
       "       [3.36953532e-03, 3.53256636e-03, 3.32771924e-05, ...,\n",
       "        1.20849200e-01, 7.84340024e-04, 1.74556990e-04],\n",
       "       [1.58269983e-02, 1.64419755e-01, 2.51321226e-01, ...,\n",
       "        1.81481452e-03, 2.22116680e-04, 7.49232058e-05],\n",
       "       ...,\n",
       "       [8.61908402e-03, 1.65966637e-02, 1.53604103e-03, ...,\n",
       "        2.48016603e-02, 8.57372710e-04, 2.44405412e-04],\n",
       "       [2.48402860e-02, 1.86409745e-02, 4.12693829e-04, ...,\n",
       "        3.87707800e-02, 1.65469036e-01, 1.59916766e-02],\n",
       "       [1.52784004e-03, 1.10406789e-03, 1.11099752e-03, ...,\n",
       "        4.59945342e-03, 6.80508616e-04, 3.68338136e-04]], dtype=float32)"
      ]
     },
     "execution_count": 8,
     "metadata": {},
     "output_type": "execute_result"
    }
   ],
   "source": [
    "# load results\n",
    "import numpy as np\n",
    "\n",
    "resnet50_predictions = np.load(\"resnet50_predictions.npz\")[\"arr_0\"]\n",
    "resnet50_predictions"
   ]
  },
  {
   "cell_type": "code",
   "execution_count": 9,
   "metadata": {},
   "outputs": [],
   "source": [
    "import pandas as pd\n",
    "\n",
    "\n",
    "from dataset import PosterDataset\n",
    "\n",
    "df = pd.read_csv(PosterDataset.csv_file)\n",
    "true_values = df.iloc[:, -20:-1].values\n",
    "genres = df.columns[-20:-1]\n",
    "genres = list(map(lambda x: x[1:], genres))\n",
    "single_genres = df.genre_count == 1"
   ]
  },
  {
   "cell_type": "code",
   "execution_count": 10,
   "metadata": {},
   "outputs": [],
   "source": [
    "from sklearn.model_selection import train_test_split\n",
    "\n",
    "train_indices, test_indices = train_test_split(\n",
    "    np.arange(len(df)), test_size=0.2, random_state=42\n",
    ")\n",
    "test_mask = np.isin(np.arange(len(df)), test_indices)\n",
    "single_genres &= test_mask"
   ]
  },
  {
   "cell_type": "code",
   "execution_count": 15,
   "metadata": {},
   "outputs": [
    {
     "data": {
      "text/plain": [
       "(0.6263585338537645,\n",
       " 0.299289987074939,\n",
       " 0.33580036859436097,\n",
       " 0.5455732366674859)"
      ]
     },
     "execution_count": 15,
     "metadata": {},
     "output_type": "execute_result"
    }
   ],
   "source": [
    "from sklearn.metrics import accuracy_score, f1_score, precision_score, roc_auc_score\n",
    "\n",
    "# calculate accuracy\n",
    "single_prediction = (\n",
    "    resnet50_predictions[single_genres]\n",
    "    == resnet50_predictions.max(axis=1)[single_genres][:, None]\n",
    ")\n",
    "roc_auc_score(true_values[single_genres], single_prediction, average=\"macro\"), f1_score(\n",
    "    true_values[single_genres], single_prediction, average=\"macro\"\n",
    "), precision_score(\n",
    "    true_values[single_genres], single_prediction, average=\"macro\"\n",
    "), accuracy_score(\n",
    "    true_values[single_genres], single_prediction\n",
    "),"
   ]
  },
  {
   "cell_type": "markdown",
   "metadata": {},
   "source": [
    "### 3 Single Label\n"
   ]
  },
  {
   "cell_type": "code",
   "execution_count": 12,
   "metadata": {},
   "outputs": [
    {
     "data": {
      "text/plain": [
       "3275"
      ]
     },
     "execution_count": 12,
     "metadata": {},
     "output_type": "execute_result"
    }
   ],
   "source": [
    "three_columns = [\"Action\", \"Romance\", \"Thriller\"]\n",
    "three_genres = np.isin(genres, three_columns)\n",
    "three_genres_index_mask = (\n",
    "    true_values[:, three_genres].sum(axis=1) >= 1\n",
    ") & single_genres\n",
    "three_genres_index_mask.sum()"
   ]
  },
  {
   "cell_type": "code",
   "execution_count": 16,
   "metadata": {},
   "outputs": [
    {
     "data": {
      "text/plain": [
       "(0.7747479441120696,\n",
       " 0.6966546602417862,\n",
       " 0.7015623338455478,\n",
       " 0.6964885496183206)"
      ]
     },
     "execution_count": 16,
     "metadata": {},
     "output_type": "execute_result"
    }
   ],
   "source": [
    "from sklearn.metrics import accuracy_score, f1_score\n",
    "\n",
    "# calculate accuracy\n",
    "three_single_prediction = resnet50_predictions[three_genres_index_mask,][\n",
    "    :, three_genres\n",
    "]\n",
    "three_single_prediction_classes = (\n",
    "    three_single_prediction == three_single_prediction.max(axis=1)[:, None]\n",
    ")\n",
    "\n",
    "roc_auc_score(\n",
    "    true_values[three_genres_index_mask,][:, three_genres],\n",
    "    three_single_prediction_classes,\n",
    "    average=\"macro\",\n",
    "), f1_score(\n",
    "    true_values[three_genres_index_mask,][:, three_genres],\n",
    "    three_single_prediction_classes,\n",
    "    average=\"macro\",\n",
    "), precision_score(\n",
    "    true_values[three_genres_index_mask,][:, three_genres],\n",
    "    three_single_prediction_classes,\n",
    "    average=\"macro\",\n",
    "), accuracy_score(\n",
    "    three_single_prediction_classes,\n",
    "    true_values[three_genres_index_mask,][:, three_genres],\n",
    ")"
   ]
  },
  {
   "cell_type": "code",
   "execution_count": 14,
   "metadata": {},
   "outputs": [
    {
     "data": {
      "text/plain": [
       "array([0.28305344, 0.38320611, 0.33374046])"
      ]
     },
     "execution_count": 14,
     "metadata": {},
     "output_type": "execute_result"
    }
   ],
   "source": [
    "three_single_prediction_classes.sum(axis=0) / three_single_prediction.shape[0]"
   ]
  }
 ],
 "metadata": {
  "kernelspec": {
   "display_name": "stat4012proj",
   "language": "python",
   "name": "python3"
  },
  "language_info": {
   "codemirror_mode": {
    "name": "ipython",
    "version": 3
   },
   "file_extension": ".py",
   "mimetype": "text/x-python",
   "name": "python",
   "nbconvert_exporter": "python",
   "pygments_lexer": "ipython3",
   "version": "3.11.7"
  }
 },
 "nbformat": 4,
 "nbformat_minor": 2
}
