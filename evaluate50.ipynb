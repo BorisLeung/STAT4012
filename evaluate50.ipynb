{
 "cells": [
  {
   "cell_type": "code",
   "execution_count": 15,
   "metadata": {},
   "outputs": [
    {
     "data": {
      "text/plain": [
       "array([[1.82925293e-03, 3.60626122e-03, 2.91937470e-01, ...,\n",
       "        1.77926780e-03, 8.04474112e-04, 5.87729795e-04],\n",
       "       [3.04410059e-04, 3.27440468e-03, 4.38404502e-03, ...,\n",
       "        3.95579700e-04, 3.98502825e-03, 3.35717195e-04],\n",
       "       [9.99932289e-01, 4.86021578e-01, 1.98667333e-03, ...,\n",
       "        5.51156819e-01, 3.92024027e-04, 3.52333125e-04],\n",
       "       ...,\n",
       "       [1.38029223e-03, 1.07545369e-04, 3.70080161e-05, ...,\n",
       "        3.20630819e-01, 7.77939131e-05, 2.33896862e-04],\n",
       "       [2.71423021e-03, 2.76995380e-03, 2.30300629e-05, ...,\n",
       "        5.58950414e-04, 6.77466113e-03, 1.04199418e-04],\n",
       "       [3.13112442e-03, 6.86676567e-03, 4.85802814e-03, ...,\n",
       "        2.36948044e-03, 1.50912325e-03, 9.24084987e-03]])"
      ]
     },
     "execution_count": 15,
     "metadata": {},
     "output_type": "execute_result"
    }
   ],
   "source": [
    "# load results\n",
    "import numpy as np\n",
    "\n",
    "resnet50_predictions = np.load(\"resnet50_predictions.npz\")[\"all_prediction\"]\n",
    "resnet50_predictions"
   ]
  },
  {
   "cell_type": "code",
   "execution_count": 16,
   "metadata": {},
   "outputs": [],
   "source": [
    "import pandas as pd\n",
    "\n",
    "\n",
    "from dataset import PosterDataset\n",
    "\n",
    "df = pd.read_csv(PosterDataset.csv_file)\n",
    "true_values = df.iloc[:, -20:-1].values\n",
    "genres = df.columns[-20:-1]\n",
    "genres = list(map(lambda x: x[1:], genres))\n",
    "single_genres = df.genre_count == 1"
   ]
  },
  {
   "cell_type": "code",
   "execution_count": 17,
   "metadata": {},
   "outputs": [
    {
     "data": {
      "text/plain": [
       "(0.5385234998750089, 0.5385234998750089)"
      ]
     },
     "execution_count": 17,
     "metadata": {},
     "output_type": "execute_result"
    }
   ],
   "source": [
    "from sklearn.metrics import accuracy_score, f1_score\n",
    "\n",
    "# calculate accuracy\n",
    "single_prediction = (\n",
    "    resnet50_predictions[single_genres]\n",
    "    == resnet50_predictions.max(axis=1)[single_genres][:, None]\n",
    ")\n",
    "accuracy_score(single_prediction, true_values[single_genres]), f1_score(\n",
    "    single_prediction, true_values[single_genres], average=\"samples\"\n",
    ")"
   ]
  },
  {
   "cell_type": "markdown",
   "metadata": {},
   "source": [
    "### 3 Single Label\n"
   ]
  },
  {
   "cell_type": "code",
   "execution_count": 18,
   "metadata": {},
   "outputs": [
    {
     "data": {
      "text/plain": [
       "15976"
      ]
     },
     "execution_count": 18,
     "metadata": {},
     "output_type": "execute_result"
    }
   ],
   "source": [
    "three_columns = [\"Action\", \"Romance\", \"Thriller\"]\n",
    "three_genres = np.isin(genres, three_columns)\n",
    "three_genres_index_mask = (\n",
    "    true_values[:, three_genres].sum(axis=1) >= 1\n",
    ") & single_genres\n",
    "three_genres_index_mask.sum()"
   ]
  },
  {
   "cell_type": "code",
   "execution_count": 19,
   "metadata": {},
   "outputs": [
    {
     "data": {
      "text/plain": [
       "(0.6861542313470206, 0.6861542313470206)"
      ]
     },
     "execution_count": 19,
     "metadata": {},
     "output_type": "execute_result"
    }
   ],
   "source": [
    "from sklearn.metrics import accuracy_score, f1_score\n",
    "\n",
    "# calculate accuracy\n",
    "three_single_prediction = resnet50_predictions[three_genres_index_mask,][\n",
    "    :, three_genres\n",
    "]\n",
    "three_single_prediction_classes = (\n",
    "    three_single_prediction == three_single_prediction.max(axis=1)[:, None]\n",
    ")\n",
    "\n",
    "accuracy_score(\n",
    "    three_single_prediction_classes,\n",
    "    true_values[three_genres_index_mask,][:, three_genres],\n",
    "), f1_score(\n",
    "    three_single_prediction_classes,\n",
    "    true_values[three_genres_index_mask,][:, three_genres],\n",
    "    average=\"samples\",\n",
    ")"
   ]
  },
  {
   "cell_type": "code",
   "execution_count": 23,
   "metadata": {},
   "outputs": [
    {
     "data": {
      "text/plain": [
       "array([0.35127692, 0.32185779, 0.3268653 ])"
      ]
     },
     "execution_count": 23,
     "metadata": {},
     "output_type": "execute_result"
    }
   ],
   "source": [
    "three_single_prediction_classes.sum(axis=0) / three_single_prediction.shape[0]"
   ]
  }
 ],
 "metadata": {
  "kernelspec": {
   "display_name": "stat4012proj",
   "language": "python",
   "name": "python3"
  },
  "language_info": {
   "codemirror_mode": {
    "name": "ipython",
    "version": 3
   },
   "file_extension": ".py",
   "mimetype": "text/x-python",
   "name": "python",
   "nbconvert_exporter": "python",
   "pygments_lexer": "ipython3",
   "version": "3.11.7"
  }
 },
 "nbformat": 4,
 "nbformat_minor": 2
}
