{
 "cells": [
  {
   "cell_type": "code",
   "execution_count": 8,
   "metadata": {},
   "outputs": [],
   "source": [
    "import os\n",
    "\n",
    "import pandas as pd\n",
    "\n",
    "from const import *\n",
    "\n",
    "genre_df = pd.read_csv(os.path.join(DATA_DIR, \"genres.csv\"), index_col=0)"
   ]
  },
  {
   "cell_type": "code",
   "execution_count": 12,
   "metadata": {},
   "outputs": [
    {
     "data": {
      "text/plain": [
       "(-0.9036903575613164, 4.00647881789528)"
      ]
     },
     "execution_count": 12,
     "metadata": {},
     "output_type": "execute_result"
    }
   ],
   "source": [
    "# get genre count range for outlier detection\n",
    "genre_counts = genre_df.groupby(ID).count()\n",
    "count_mean = genre_counts[GENRE].mean()\n",
    "count_std = genre_counts[GENRE].std()\n",
    "\n",
    "count_range = (count_mean - 3 * count_std, count_mean + 3 * count_std)\n",
    "count_range"
   ]
  },
  {
   "cell_type": "code",
   "execution_count": 20,
   "metadata": {},
   "outputs": [
    {
     "data": {
      "text/plain": [
       "3827"
      ]
     },
     "execution_count": 20,
     "metadata": {},
     "output_type": "execute_result"
    }
   ],
   "source": [
    "# number of outliers\n",
    "filtered_movies = genre_counts[genre_counts[GENRE] < count_range[1]]\n",
    "len(genre_counts.index) - len(filtered_movies.index)"
   ]
  },
  {
   "cell_type": "code",
   "execution_count": 42,
   "metadata": {},
   "outputs": [],
   "source": [
    "valid_movies = pd.read_csv(\"valid_movies.csv\", index_col=0)\n",
    "cleaned_movies = pd.Series(\n",
    "    sorted(list(set(valid_movies[MOVIE_ID]).intersection(set(filtered_movies.index))))\n",
    ")\n",
    "cleaned_genre_df = genre_df[genre_df.index.isin(cleaned_movies)]\n",
    "encoded_df = (\n",
    "    pd.get_dummies(cleaned_genre_df, columns=[GENRE], prefix=\"\").groupby(ID).any()\n",
    ")\n",
    "encoded_df[\"genre_count\"] = encoded_df.sum(axis=1)\n",
    "encoded_df.index.names = [MOVIE_ID]\n",
    "encoded_df.to_csv(\"encoded_genres.csv\")"
   ]
  }
 ],
 "metadata": {
  "kernelspec": {
   "display_name": "stat4012proj",
   "language": "python",
   "name": "python3"
  },
  "language_info": {
   "codemirror_mode": {
    "name": "ipython",
    "version": 3
   },
   "file_extension": ".py",
   "mimetype": "text/x-python",
   "name": "python",
   "nbconvert_exporter": "python",
   "pygments_lexer": "ipython3",
   "version": "3.11.7"
  }
 },
 "nbformat": 4,
 "nbformat_minor": 2
}
